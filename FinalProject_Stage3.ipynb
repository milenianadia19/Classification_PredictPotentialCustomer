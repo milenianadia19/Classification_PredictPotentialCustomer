{
 "cells": [
  {
   "cell_type": "markdown",
   "id": "fe6f2e70-b419-41a9-a6e8-64ba189ef7f0",
   "metadata": {},
   "source": [
    "# Stage 3 (ML Modeling and Evaluation)"
   ]
  },
  {
   "cell_type": "markdown",
   "id": "89c43934-45d3-4f55-ae89-3623634b848c",
   "metadata": {
    "id": "5J3nRWPOyQYO"
   },
   "source": [
    "Anggota Team 4:\n",
    "*   Akhmad Yuzfa Salvian Idris\n",
    "*   Arief Rahman Hakim\n",
    "*   Bernardus Valentino\n",
    "*   Milenia Nadia Afifah Puspitasari\n",
    "*   Sean Frederic Wijaya"
   ]
  },
  {
   "cell_type": "markdown",
   "id": "b3d5bdc6-34a6-4f6a-a322-c26ba7181390",
   "metadata": {},
   "source": [
    "## Data Pre-Processing Conclusion"
   ]
  },
  {
   "cell_type": "markdown",
   "id": "b4112800-a23b-422a-9260-e3f062d0fd72",
   "metadata": {},
   "source": [
    "- Data awal : 4888 rows x 20 columns\n",
    "- Data setelah pre-processing (sampai encoding): 4787 rows x 34 columns (masih ada kolom CustomerID)"
   ]
  },
  {
   "cell_type": "code",
   "execution_count": 1,
   "id": "e3e0c215-0650-45b8-b03b-043fc5a22686",
   "metadata": {},
   "outputs": [],
   "source": [
    "import warnings\n",
    "warnings.filterwarnings('ignore')\n",
    "\n",
    "import matplotlib.pyplot as plt\n",
    "import pandas as pd\n",
    "import numpy as np\n",
    "import seaborn as sns\n",
    "import time"
   ]
  },
  {
   "cell_type": "code",
   "execution_count": 2,
   "id": "a24399f5-85a2-48fa-a3b4-5ba55176ab78",
   "metadata": {
    "ExecuteTime": {
     "end_time": "2021-03-21T02:46:51.340951Z",
     "start_time": "2021-03-21T02:46:51.333717Z"
    }
   },
   "outputs": [],
   "source": [
    "from sklearn.metrics import accuracy_score, precision_score, recall_score, f1_score\n",
    "from sklearn.metrics import roc_curve, auc\n",
    "\n",
    "def eval_classification(model, pred, xtrain, ytrain, xtest, ytest):\n",
    "    print(\"Accuracy (Test Set): %.2f\" % accuracy_score(ytest, pred))\n",
    "    print(\"Precision (Test Set): %.2f\" % precision_score(ytest, pred))\n",
    "    print(\"Recall (Test Set): %.2f\" % recall_score(ytest, pred))\n",
    "    print(\"F1-Score (Test Set): %.2f\" % f1_score(ytest, pred))\n",
    "    \n",
    "    fpr, tpr, thresholds = roc_curve(ytest, pred, pos_label=1) # pos_label: label yang kita anggap positive\n",
    "    print(\"AUC: %.2f\" % auc(fpr, tpr))\n",
    "    \n",
    "def show_feature_importance(model):\n",
    "    feat_importances = pd.Series(model.feature_importances_, index=X.columns)\n",
    "    ax = feat_importances.nlargest(25).plot(kind='barh', figsize=(10, 8))\n",
    "    ax.invert_yaxis()\n",
    "\n",
    "    plt.xlabel('Score')\n",
    "    plt.ylabel('Feature')\n",
    "    plt.title('Feature Importance Score')\n",
    "    plt.show()\n",
    "\n",
    "def show_best_hyperparameter(model, hyperparameters):\n",
    "    for key, value in hyperparameters.items() :\n",
    "        print('Best '+key+':', model.get_params()[key])"
   ]
  },
  {
   "cell_type": "code",
   "execution_count": 3,
   "id": "2ec139eb-1eed-4eb1-abd1-1bf5b870c68a",
   "metadata": {},
   "outputs": [
    {
     "data": {
      "text/html": [
       "<div>\n",
       "<style scoped>\n",
       "    .dataframe tbody tr th:only-of-type {\n",
       "        vertical-align: middle;\n",
       "    }\n",
       "\n",
       "    .dataframe tbody tr th {\n",
       "        vertical-align: top;\n",
       "    }\n",
       "\n",
       "    .dataframe thead th {\n",
       "        text-align: right;\n",
       "    }\n",
       "</style>\n",
       "<table border=\"1\" class=\"dataframe\">\n",
       "  <thead>\n",
       "    <tr style=\"text-align: right;\">\n",
       "      <th></th>\n",
       "      <th>CustomerID</th>\n",
       "      <th>ProdTaken</th>\n",
       "      <th>Age</th>\n",
       "      <th>NumberOfPersonVisiting</th>\n",
       "      <th>NumberOfFollowups</th>\n",
       "      <th>NumberOfChildrenVisiting</th>\n",
       "      <th>NumberOfTrips_std</th>\n",
       "      <th>MonthlyIncome_std</th>\n",
       "      <th>DurationOfPitch_std</th>\n",
       "      <th>TypeofContact_label</th>\n",
       "      <th>...</th>\n",
       "      <th>ProductPitched_Super Deluxe</th>\n",
       "      <th>MaritalStatus_Divorced</th>\n",
       "      <th>MaritalStatus_Married</th>\n",
       "      <th>MaritalStatus_Single</th>\n",
       "      <th>MaritalStatus_Unmarried</th>\n",
       "      <th>Designation_AVP</th>\n",
       "      <th>Designation_Executive</th>\n",
       "      <th>Designation_Manager</th>\n",
       "      <th>Designation_Senior Manager</th>\n",
       "      <th>Designation_VP</th>\n",
       "    </tr>\n",
       "  </thead>\n",
       "  <tbody>\n",
       "    <tr>\n",
       "      <th>0</th>\n",
       "      <td>200000</td>\n",
       "      <td>1</td>\n",
       "      <td>41.0</td>\n",
       "      <td>3</td>\n",
       "      <td>3.0</td>\n",
       "      <td>0.0</td>\n",
       "      <td>-1.232865</td>\n",
       "      <td>-0.488510</td>\n",
       "      <td>-1.164769</td>\n",
       "      <td>1</td>\n",
       "      <td>...</td>\n",
       "      <td>0</td>\n",
       "      <td>0</td>\n",
       "      <td>0</td>\n",
       "      <td>1</td>\n",
       "      <td>0</td>\n",
       "      <td>0</td>\n",
       "      <td>0</td>\n",
       "      <td>1</td>\n",
       "      <td>0</td>\n",
       "      <td>0</td>\n",
       "    </tr>\n",
       "    <tr>\n",
       "      <th>1</th>\n",
       "      <td>200001</td>\n",
       "      <td>0</td>\n",
       "      <td>49.0</td>\n",
       "      <td>3</td>\n",
       "      <td>4.0</td>\n",
       "      <td>2.0</td>\n",
       "      <td>-0.666480</td>\n",
       "      <td>-0.664917</td>\n",
       "      <td>-0.166872</td>\n",
       "      <td>0</td>\n",
       "      <td>...</td>\n",
       "      <td>0</td>\n",
       "      <td>1</td>\n",
       "      <td>0</td>\n",
       "      <td>0</td>\n",
       "      <td>0</td>\n",
       "      <td>0</td>\n",
       "      <td>0</td>\n",
       "      <td>1</td>\n",
       "      <td>0</td>\n",
       "      <td>0</td>\n",
       "    </tr>\n",
       "    <tr>\n",
       "      <th>2</th>\n",
       "      <td>200002</td>\n",
       "      <td>1</td>\n",
       "      <td>37.0</td>\n",
       "      <td>3</td>\n",
       "      <td>4.0</td>\n",
       "      <td>0.0</td>\n",
       "      <td>2.165440</td>\n",
       "      <td>-1.286327</td>\n",
       "      <td>-0.915295</td>\n",
       "      <td>1</td>\n",
       "      <td>...</td>\n",
       "      <td>0</td>\n",
       "      <td>0</td>\n",
       "      <td>0</td>\n",
       "      <td>1</td>\n",
       "      <td>0</td>\n",
       "      <td>0</td>\n",
       "      <td>1</td>\n",
       "      <td>0</td>\n",
       "      <td>0</td>\n",
       "      <td>0</td>\n",
       "    </tr>\n",
       "    <tr>\n",
       "      <th>3</th>\n",
       "      <td>200003</td>\n",
       "      <td>0</td>\n",
       "      <td>33.0</td>\n",
       "      <td>2</td>\n",
       "      <td>3.0</td>\n",
       "      <td>1.0</td>\n",
       "      <td>-0.666480</td>\n",
       "      <td>-1.118914</td>\n",
       "      <td>-0.790558</td>\n",
       "      <td>0</td>\n",
       "      <td>...</td>\n",
       "      <td>0</td>\n",
       "      <td>1</td>\n",
       "      <td>0</td>\n",
       "      <td>0</td>\n",
       "      <td>0</td>\n",
       "      <td>0</td>\n",
       "      <td>1</td>\n",
       "      <td>0</td>\n",
       "      <td>0</td>\n",
       "      <td>0</td>\n",
       "    </tr>\n",
       "    <tr>\n",
       "      <th>4</th>\n",
       "      <td>200004</td>\n",
       "      <td>0</td>\n",
       "      <td>35.0</td>\n",
       "      <td>2</td>\n",
       "      <td>3.0</td>\n",
       "      <td>0.0</td>\n",
       "      <td>-1.232865</td>\n",
       "      <td>-1.004648</td>\n",
       "      <td>-0.915295</td>\n",
       "      <td>1</td>\n",
       "      <td>...</td>\n",
       "      <td>0</td>\n",
       "      <td>1</td>\n",
       "      <td>0</td>\n",
       "      <td>0</td>\n",
       "      <td>0</td>\n",
       "      <td>0</td>\n",
       "      <td>1</td>\n",
       "      <td>0</td>\n",
       "      <td>0</td>\n",
       "      <td>0</td>\n",
       "    </tr>\n",
       "    <tr>\n",
       "      <th>...</th>\n",
       "      <td>...</td>\n",
       "      <td>...</td>\n",
       "      <td>...</td>\n",
       "      <td>...</td>\n",
       "      <td>...</td>\n",
       "      <td>...</td>\n",
       "      <td>...</td>\n",
       "      <td>...</td>\n",
       "      <td>...</td>\n",
       "      <td>...</td>\n",
       "      <td>...</td>\n",
       "      <td>...</td>\n",
       "      <td>...</td>\n",
       "      <td>...</td>\n",
       "      <td>...</td>\n",
       "      <td>...</td>\n",
       "      <td>...</td>\n",
       "      <td>...</td>\n",
       "      <td>...</td>\n",
       "      <td>...</td>\n",
       "      <td>...</td>\n",
       "    </tr>\n",
       "    <tr>\n",
       "      <th>4782</th>\n",
       "      <td>204883</td>\n",
       "      <td>1</td>\n",
       "      <td>49.0</td>\n",
       "      <td>3</td>\n",
       "      <td>5.0</td>\n",
       "      <td>1.0</td>\n",
       "      <td>-0.666480</td>\n",
       "      <td>0.652718</td>\n",
       "      <td>-0.790558</td>\n",
       "      <td>1</td>\n",
       "      <td>...</td>\n",
       "      <td>0</td>\n",
       "      <td>0</td>\n",
       "      <td>0</td>\n",
       "      <td>0</td>\n",
       "      <td>1</td>\n",
       "      <td>0</td>\n",
       "      <td>0</td>\n",
       "      <td>1</td>\n",
       "      <td>0</td>\n",
       "      <td>0</td>\n",
       "    </tr>\n",
       "    <tr>\n",
       "      <th>4783</th>\n",
       "      <td>204884</td>\n",
       "      <td>1</td>\n",
       "      <td>28.0</td>\n",
       "      <td>4</td>\n",
       "      <td>5.0</td>\n",
       "      <td>2.0</td>\n",
       "      <td>-0.100096</td>\n",
       "      <td>-0.443744</td>\n",
       "      <td>1.953659</td>\n",
       "      <td>0</td>\n",
       "      <td>...</td>\n",
       "      <td>0</td>\n",
       "      <td>0</td>\n",
       "      <td>0</td>\n",
       "      <td>1</td>\n",
       "      <td>0</td>\n",
       "      <td>0</td>\n",
       "      <td>1</td>\n",
       "      <td>0</td>\n",
       "      <td>0</td>\n",
       "      <td>0</td>\n",
       "    </tr>\n",
       "    <tr>\n",
       "      <th>4784</th>\n",
       "      <td>204885</td>\n",
       "      <td>1</td>\n",
       "      <td>52.0</td>\n",
       "      <td>4</td>\n",
       "      <td>4.0</td>\n",
       "      <td>3.0</td>\n",
       "      <td>2.165440</td>\n",
       "      <td>1.724650</td>\n",
       "      <td>0.207339</td>\n",
       "      <td>1</td>\n",
       "      <td>...</td>\n",
       "      <td>0</td>\n",
       "      <td>0</td>\n",
       "      <td>1</td>\n",
       "      <td>0</td>\n",
       "      <td>0</td>\n",
       "      <td>0</td>\n",
       "      <td>0</td>\n",
       "      <td>0</td>\n",
       "      <td>1</td>\n",
       "      <td>0</td>\n",
       "    </tr>\n",
       "    <tr>\n",
       "      <th>4785</th>\n",
       "      <td>204886</td>\n",
       "      <td>1</td>\n",
       "      <td>19.0</td>\n",
       "      <td>3</td>\n",
       "      <td>4.0</td>\n",
       "      <td>2.0</td>\n",
       "      <td>-0.100096</td>\n",
       "      <td>-0.632415</td>\n",
       "      <td>0.082602</td>\n",
       "      <td>1</td>\n",
       "      <td>...</td>\n",
       "      <td>0</td>\n",
       "      <td>0</td>\n",
       "      <td>0</td>\n",
       "      <td>1</td>\n",
       "      <td>0</td>\n",
       "      <td>0</td>\n",
       "      <td>1</td>\n",
       "      <td>0</td>\n",
       "      <td>0</td>\n",
       "      <td>0</td>\n",
       "    </tr>\n",
       "    <tr>\n",
       "      <th>4786</th>\n",
       "      <td>204887</td>\n",
       "      <td>1</td>\n",
       "      <td>36.0</td>\n",
       "      <td>4</td>\n",
       "      <td>4.0</td>\n",
       "      <td>2.0</td>\n",
       "      <td>-0.100096</td>\n",
       "      <td>0.134536</td>\n",
       "      <td>-0.166872</td>\n",
       "      <td>1</td>\n",
       "      <td>...</td>\n",
       "      <td>0</td>\n",
       "      <td>0</td>\n",
       "      <td>0</td>\n",
       "      <td>0</td>\n",
       "      <td>1</td>\n",
       "      <td>0</td>\n",
       "      <td>1</td>\n",
       "      <td>0</td>\n",
       "      <td>0</td>\n",
       "      <td>0</td>\n",
       "    </tr>\n",
       "  </tbody>\n",
       "</table>\n",
       "<p>4787 rows × 34 columns</p>\n",
       "</div>"
      ],
      "text/plain": [
       "      CustomerID  ProdTaken   Age  NumberOfPersonVisiting  NumberOfFollowups  \\\n",
       "0         200000          1  41.0                       3                3.0   \n",
       "1         200001          0  49.0                       3                4.0   \n",
       "2         200002          1  37.0                       3                4.0   \n",
       "3         200003          0  33.0                       2                3.0   \n",
       "4         200004          0  35.0                       2                3.0   \n",
       "...          ...        ...   ...                     ...                ...   \n",
       "4782      204883          1  49.0                       3                5.0   \n",
       "4783      204884          1  28.0                       4                5.0   \n",
       "4784      204885          1  52.0                       4                4.0   \n",
       "4785      204886          1  19.0                       3                4.0   \n",
       "4786      204887          1  36.0                       4                4.0   \n",
       "\n",
       "      NumberOfChildrenVisiting  NumberOfTrips_std  MonthlyIncome_std  \\\n",
       "0                          0.0          -1.232865          -0.488510   \n",
       "1                          2.0          -0.666480          -0.664917   \n",
       "2                          0.0           2.165440          -1.286327   \n",
       "3                          1.0          -0.666480          -1.118914   \n",
       "4                          0.0          -1.232865          -1.004648   \n",
       "...                        ...                ...                ...   \n",
       "4782                       1.0          -0.666480           0.652718   \n",
       "4783                       2.0          -0.100096          -0.443744   \n",
       "4784                       3.0           2.165440           1.724650   \n",
       "4785                       2.0          -0.100096          -0.632415   \n",
       "4786                       2.0          -0.100096           0.134536   \n",
       "\n",
       "      DurationOfPitch_std  TypeofContact_label  ...  \\\n",
       "0               -1.164769                    1  ...   \n",
       "1               -0.166872                    0  ...   \n",
       "2               -0.915295                    1  ...   \n",
       "3               -0.790558                    0  ...   \n",
       "4               -0.915295                    1  ...   \n",
       "...                   ...                  ...  ...   \n",
       "4782            -0.790558                    1  ...   \n",
       "4783             1.953659                    0  ...   \n",
       "4784             0.207339                    1  ...   \n",
       "4785             0.082602                    1  ...   \n",
       "4786            -0.166872                    1  ...   \n",
       "\n",
       "      ProductPitched_Super Deluxe  MaritalStatus_Divorced  \\\n",
       "0                               0                       0   \n",
       "1                               0                       1   \n",
       "2                               0                       0   \n",
       "3                               0                       1   \n",
       "4                               0                       1   \n",
       "...                           ...                     ...   \n",
       "4782                            0                       0   \n",
       "4783                            0                       0   \n",
       "4784                            0                       0   \n",
       "4785                            0                       0   \n",
       "4786                            0                       0   \n",
       "\n",
       "      MaritalStatus_Married  MaritalStatus_Single  MaritalStatus_Unmarried  \\\n",
       "0                         0                     1                        0   \n",
       "1                         0                     0                        0   \n",
       "2                         0                     1                        0   \n",
       "3                         0                     0                        0   \n",
       "4                         0                     0                        0   \n",
       "...                     ...                   ...                      ...   \n",
       "4782                      0                     0                        1   \n",
       "4783                      0                     1                        0   \n",
       "4784                      1                     0                        0   \n",
       "4785                      0                     1                        0   \n",
       "4786                      0                     0                        1   \n",
       "\n",
       "      Designation_AVP  Designation_Executive  Designation_Manager  \\\n",
       "0                   0                      0                    1   \n",
       "1                   0                      0                    1   \n",
       "2                   0                      1                    0   \n",
       "3                   0                      1                    0   \n",
       "4                   0                      1                    0   \n",
       "...               ...                    ...                  ...   \n",
       "4782                0                      0                    1   \n",
       "4783                0                      1                    0   \n",
       "4784                0                      0                    0   \n",
       "4785                0                      1                    0   \n",
       "4786                0                      1                    0   \n",
       "\n",
       "      Designation_Senior Manager  Designation_VP  \n",
       "0                              0               0  \n",
       "1                              0               0  \n",
       "2                              0               0  \n",
       "3                              0               0  \n",
       "4                              0               0  \n",
       "...                          ...             ...  \n",
       "4782                           0               0  \n",
       "4783                           0               0  \n",
       "4784                           1               0  \n",
       "4785                           0               0  \n",
       "4786                           0               0  \n",
       "\n",
       "[4787 rows x 34 columns]"
      ]
     },
     "execution_count": 3,
     "metadata": {},
     "output_type": "execute_result"
    }
   ],
   "source": [
    "df = pd.read_csv('Data.csv')\n",
    "df"
   ]
  },
  {
   "cell_type": "code",
   "execution_count": 111,
   "id": "cf36554a-e7d6-4df1-8bda-8b25d7f539d6",
   "metadata": {},
   "outputs": [
    {
     "name": "stdout",
     "output_type": "stream",
     "text": [
      "<class 'pandas.core.frame.DataFrame'>\n",
      "RangeIndex: 4787 entries, 0 to 4786\n",
      "Data columns (total 34 columns):\n",
      " #   Column                        Non-Null Count  Dtype  \n",
      "---  ------                        --------------  -----  \n",
      " 0   CustomerID                    4787 non-null   int64  \n",
      " 1   ProdTaken                     4787 non-null   int64  \n",
      " 2   Age                           4787 non-null   float64\n",
      " 3   NumberOfPersonVisiting        4787 non-null   int64  \n",
      " 4   NumberOfFollowups             4787 non-null   float64\n",
      " 5   NumberOfChildrenVisiting      4787 non-null   float64\n",
      " 6   NumberOfTrips_std             4787 non-null   float64\n",
      " 7   MonthlyIncome_std             4787 non-null   float64\n",
      " 8   DurationOfPitch_std           4787 non-null   float64\n",
      " 9   TypeofContact_label           4787 non-null   int64  \n",
      " 10  Passport_label                4787 non-null   int64  \n",
      " 11  OwnCar_label                  4787 non-null   int64  \n",
      " 12  Gender_label                  4787 non-null   int64  \n",
      " 13  PreferredPropertyStar_label   4787 non-null   int64  \n",
      " 14  PitchSatisfactionScore_label  4787 non-null   int64  \n",
      " 15  CityTier_label                4787 non-null   int64  \n",
      " 16  Occupation_Free Lancer        4787 non-null   int64  \n",
      " 17  Occupation_Large Business     4787 non-null   int64  \n",
      " 18  Occupation_Salaried           4787 non-null   int64  \n",
      " 19  Occupation_Small Business     4787 non-null   int64  \n",
      " 20  ProductPitched_Basic          4787 non-null   int64  \n",
      " 21  ProductPitched_Deluxe         4787 non-null   int64  \n",
      " 22  ProductPitched_King           4787 non-null   int64  \n",
      " 23  ProductPitched_Standard       4787 non-null   int64  \n",
      " 24  ProductPitched_Super Deluxe   4787 non-null   int64  \n",
      " 25  MaritalStatus_Divorced        4787 non-null   int64  \n",
      " 26  MaritalStatus_Married         4787 non-null   int64  \n",
      " 27  MaritalStatus_Single          4787 non-null   int64  \n",
      " 28  MaritalStatus_Unmarried       4787 non-null   int64  \n",
      " 29  Designation_AVP               4787 non-null   int64  \n",
      " 30  Designation_Executive         4787 non-null   int64  \n",
      " 31  Designation_Manager           4787 non-null   int64  \n",
      " 32  Designation_Senior Manager    4787 non-null   int64  \n",
      " 33  Designation_VP                4787 non-null   int64  \n",
      "dtypes: float64(6), int64(28)\n",
      "memory usage: 1.2 MB\n"
     ]
    }
   ],
   "source": [
    "df.info()"
   ]
  },
  {
   "cell_type": "markdown",
   "id": "f0afd11a-3161-491e-8b43-d9bdf22a6ad5",
   "metadata": {},
   "source": [
    "## Membagi Data Test dan Data Training"
   ]
  },
  {
   "cell_type": "code",
   "execution_count": 4,
   "id": "26c05d94-993b-496a-abb6-4cc92651d870",
   "metadata": {},
   "outputs": [],
   "source": [
    "from sklearn.model_selection import train_test_split\n",
    "\n",
    "X = df[list(df.columns[2:])]\n",
    "Y = df[['ProdTaken']]\n",
    "X_train, X_test, y_train, y_test = train_test_split(X,Y,test_size = 0.2,random_state = 42)"
   ]
  },
  {
   "cell_type": "code",
   "execution_count": 5,
   "id": "3e1c1041-c670-4140-835a-8d3937c857e8",
   "metadata": {},
   "outputs": [
    {
     "data": {
      "text/plain": [
       "(4787, 34)"
      ]
     },
     "execution_count": 5,
     "metadata": {},
     "output_type": "execute_result"
    }
   ],
   "source": [
    "df.shape"
   ]
  },
  {
   "cell_type": "code",
   "execution_count": 6,
   "id": "d73134db-dfd4-4d02-9b56-27228d620e56",
   "metadata": {},
   "outputs": [
    {
     "data": {
      "text/plain": [
       "(3829, 32)"
      ]
     },
     "execution_count": 6,
     "metadata": {},
     "output_type": "execute_result"
    }
   ],
   "source": [
    "X_train.shape"
   ]
  },
  {
   "cell_type": "code",
   "execution_count": 7,
   "id": "57eba071-db13-401f-8220-270ef82242bf",
   "metadata": {},
   "outputs": [
    {
     "data": {
      "text/plain": [
       "(958, 32)"
      ]
     },
     "execution_count": 7,
     "metadata": {},
     "output_type": "execute_result"
    }
   ],
   "source": [
    "X_test.shape"
   ]
  },
  {
   "cell_type": "markdown",
   "id": "3a7b8ef8-d06f-4867-aecc-f51de7b47feb",
   "metadata": {
    "id": "_M4ZaqygG24h"
   },
   "source": [
    "## Imbalanced Dataset"
   ]
  },
  {
   "cell_type": "code",
   "execution_count": 8,
   "id": "8969e8f1-f054-4273-8d6a-33cd0886a27f",
   "metadata": {
    "colab": {
     "base_uri": "https://localhost:8080/"
    },
    "id": "yupoHykXG5TI",
    "outputId": "c0bedb02-a97d-4184-9c7d-19c986e92fd1"
   },
   "outputs": [
    {
     "data": {
      "text/plain": [
       "0    3120\n",
       "1     709\n",
       "Name: ProdTaken, dtype: int64"
      ]
     },
     "execution_count": 8,
     "metadata": {},
     "output_type": "execute_result"
    }
   ],
   "source": [
    "y_train['ProdTaken'].value_counts()"
   ]
  },
  {
   "cell_type": "code",
   "execution_count": 9,
   "id": "0ead3f19-67ba-499a-bc8b-d9b3b067b828",
   "metadata": {
    "colab": {
     "base_uri": "https://localhost:8080/"
    },
    "id": "Wrvqm1ePG9H5",
    "outputId": "3456f229-a8ec-41ea-d31d-afd82c57f441"
   },
   "outputs": [
    {
     "name": "stdout",
     "output_type": "stream",
     "text": [
      "(3829, 32)\n",
      "(3829,)\n"
     ]
    }
   ],
   "source": [
    "x = X_train[[col for col in X_train.columns if (str(X_train[col].dtype) != 'object')]]\n",
    "y = y_train['ProdTaken'].values\n",
    "print(x.shape)\n",
    "print(y.shape)"
   ]
  },
  {
   "cell_type": "code",
   "execution_count": 10,
   "id": "fc0d4455-c813-4218-ad2a-6f04f7098308",
   "metadata": {
    "colab": {
     "base_uri": "https://localhost:8080/"
    },
    "id": "p2Oq2NGTHFBp",
    "outputId": "577fefd3-abc0-44d2-f4d6-5d8a10d4507e"
   },
   "outputs": [
    {
     "name": "stdout",
     "output_type": "stream",
     "text": [
      "SMOTE\n",
      "0    3120\n",
      "1    1560\n",
      "dtype: int64\n"
     ]
    }
   ],
   "source": [
    "from imblearn import over_sampling\n",
    "x_over_SMOTE, y_over_SMOTE = over_sampling.SMOTE(0.5).fit_resample(x, y)\n",
    "print('SMOTE')\n",
    "print(pd.Series(y_over_SMOTE).value_counts())"
   ]
  },
  {
   "cell_type": "code",
   "execution_count": 11,
   "id": "84455f3c-0b88-4208-813d-14d52fb66f5d",
   "metadata": {
    "colab": {
     "base_uri": "https://localhost:8080/",
     "height": 424
    },
    "id": "okhSai_LHMQw",
    "outputId": "475d7903-e452-43b6-c324-df7b02e4e3b6"
   },
   "outputs": [
    {
     "data": {
      "text/html": [
       "<div>\n",
       "<style scoped>\n",
       "    .dataframe tbody tr th:only-of-type {\n",
       "        vertical-align: middle;\n",
       "    }\n",
       "\n",
       "    .dataframe tbody tr th {\n",
       "        vertical-align: top;\n",
       "    }\n",
       "\n",
       "    .dataframe thead th {\n",
       "        text-align: right;\n",
       "    }\n",
       "</style>\n",
       "<table border=\"1\" class=\"dataframe\">\n",
       "  <thead>\n",
       "    <tr style=\"text-align: right;\">\n",
       "      <th></th>\n",
       "      <th>Age</th>\n",
       "      <th>NumberOfPersonVisiting</th>\n",
       "      <th>NumberOfFollowups</th>\n",
       "      <th>NumberOfChildrenVisiting</th>\n",
       "      <th>NumberOfTrips_std</th>\n",
       "      <th>MonthlyIncome_std</th>\n",
       "      <th>DurationOfPitch_std</th>\n",
       "      <th>TypeofContact_label</th>\n",
       "      <th>Passport_label</th>\n",
       "      <th>OwnCar_label</th>\n",
       "      <th>...</th>\n",
       "      <th>MaritalStatus_Divorced</th>\n",
       "      <th>MaritalStatus_Married</th>\n",
       "      <th>MaritalStatus_Single</th>\n",
       "      <th>MaritalStatus_Unmarried</th>\n",
       "      <th>Designation_AVP</th>\n",
       "      <th>Designation_Executive</th>\n",
       "      <th>Designation_Manager</th>\n",
       "      <th>Designation_Senior Manager</th>\n",
       "      <th>Designation_VP</th>\n",
       "      <th>target</th>\n",
       "    </tr>\n",
       "  </thead>\n",
       "  <tbody>\n",
       "    <tr>\n",
       "      <th>0</th>\n",
       "      <td>50.000000</td>\n",
       "      <td>3</td>\n",
       "      <td>3.000000</td>\n",
       "      <td>0.000000</td>\n",
       "      <td>0.466288</td>\n",
       "      <td>1.142691</td>\n",
       "      <td>1.828922</td>\n",
       "      <td>1</td>\n",
       "      <td>1</td>\n",
       "      <td>0</td>\n",
       "      <td>...</td>\n",
       "      <td>1</td>\n",
       "      <td>0</td>\n",
       "      <td>0</td>\n",
       "      <td>0</td>\n",
       "      <td>1</td>\n",
       "      <td>0</td>\n",
       "      <td>0</td>\n",
       "      <td>0</td>\n",
       "      <td>0</td>\n",
       "      <td>0</td>\n",
       "    </tr>\n",
       "    <tr>\n",
       "      <th>1</th>\n",
       "      <td>33.000000</td>\n",
       "      <td>3</td>\n",
       "      <td>5.000000</td>\n",
       "      <td>2.000000</td>\n",
       "      <td>1.599056</td>\n",
       "      <td>-0.516923</td>\n",
       "      <td>-0.790558</td>\n",
       "      <td>1</td>\n",
       "      <td>0</td>\n",
       "      <td>0</td>\n",
       "      <td>...</td>\n",
       "      <td>0</td>\n",
       "      <td>0</td>\n",
       "      <td>1</td>\n",
       "      <td>0</td>\n",
       "      <td>0</td>\n",
       "      <td>0</td>\n",
       "      <td>1</td>\n",
       "      <td>0</td>\n",
       "      <td>0</td>\n",
       "      <td>0</td>\n",
       "    </tr>\n",
       "    <tr>\n",
       "      <th>2</th>\n",
       "      <td>32.000000</td>\n",
       "      <td>3</td>\n",
       "      <td>1.000000</td>\n",
       "      <td>2.000000</td>\n",
       "      <td>-1.232865</td>\n",
       "      <td>-1.039398</td>\n",
       "      <td>-0.541083</td>\n",
       "      <td>1</td>\n",
       "      <td>1</td>\n",
       "      <td>1</td>\n",
       "      <td>...</td>\n",
       "      <td>0</td>\n",
       "      <td>1</td>\n",
       "      <td>0</td>\n",
       "      <td>0</td>\n",
       "      <td>0</td>\n",
       "      <td>1</td>\n",
       "      <td>0</td>\n",
       "      <td>0</td>\n",
       "      <td>0</td>\n",
       "      <td>0</td>\n",
       "    </tr>\n",
       "    <tr>\n",
       "      <th>3</th>\n",
       "      <td>38.000000</td>\n",
       "      <td>3</td>\n",
       "      <td>5.000000</td>\n",
       "      <td>2.000000</td>\n",
       "      <td>2.165440</td>\n",
       "      <td>1.206877</td>\n",
       "      <td>-1.040032</td>\n",
       "      <td>1</td>\n",
       "      <td>0</td>\n",
       "      <td>1</td>\n",
       "      <td>...</td>\n",
       "      <td>0</td>\n",
       "      <td>1</td>\n",
       "      <td>0</td>\n",
       "      <td>0</td>\n",
       "      <td>0</td>\n",
       "      <td>0</td>\n",
       "      <td>0</td>\n",
       "      <td>1</td>\n",
       "      <td>0</td>\n",
       "      <td>1</td>\n",
       "    </tr>\n",
       "    <tr>\n",
       "      <th>4</th>\n",
       "      <td>35.000000</td>\n",
       "      <td>3</td>\n",
       "      <td>4.000000</td>\n",
       "      <td>2.000000</td>\n",
       "      <td>-1.232865</td>\n",
       "      <td>-1.002399</td>\n",
       "      <td>2.452607</td>\n",
       "      <td>0</td>\n",
       "      <td>0</td>\n",
       "      <td>0</td>\n",
       "      <td>...</td>\n",
       "      <td>0</td>\n",
       "      <td>0</td>\n",
       "      <td>1</td>\n",
       "      <td>0</td>\n",
       "      <td>0</td>\n",
       "      <td>1</td>\n",
       "      <td>0</td>\n",
       "      <td>0</td>\n",
       "      <td>0</td>\n",
       "      <td>1</td>\n",
       "    </tr>\n",
       "    <tr>\n",
       "      <th>...</th>\n",
       "      <td>...</td>\n",
       "      <td>...</td>\n",
       "      <td>...</td>\n",
       "      <td>...</td>\n",
       "      <td>...</td>\n",
       "      <td>...</td>\n",
       "      <td>...</td>\n",
       "      <td>...</td>\n",
       "      <td>...</td>\n",
       "      <td>...</td>\n",
       "      <td>...</td>\n",
       "      <td>...</td>\n",
       "      <td>...</td>\n",
       "      <td>...</td>\n",
       "      <td>...</td>\n",
       "      <td>...</td>\n",
       "      <td>...</td>\n",
       "      <td>...</td>\n",
       "      <td>...</td>\n",
       "      <td>...</td>\n",
       "      <td>...</td>\n",
       "    </tr>\n",
       "    <tr>\n",
       "      <th>4675</th>\n",
       "      <td>35.000000</td>\n",
       "      <td>3</td>\n",
       "      <td>3.932495</td>\n",
       "      <td>0.067505</td>\n",
       "      <td>1.484355</td>\n",
       "      <td>-0.288855</td>\n",
       "      <td>-0.682661</td>\n",
       "      <td>0</td>\n",
       "      <td>0</td>\n",
       "      <td>0</td>\n",
       "      <td>...</td>\n",
       "      <td>0</td>\n",
       "      <td>0</td>\n",
       "      <td>1</td>\n",
       "      <td>0</td>\n",
       "      <td>0</td>\n",
       "      <td>1</td>\n",
       "      <td>0</td>\n",
       "      <td>0</td>\n",
       "      <td>0</td>\n",
       "      <td>1</td>\n",
       "    </tr>\n",
       "    <tr>\n",
       "      <th>4676</th>\n",
       "      <td>45.756456</td>\n",
       "      <td>3</td>\n",
       "      <td>5.512912</td>\n",
       "      <td>2.756456</td>\n",
       "      <td>-0.666480</td>\n",
       "      <td>2.665028</td>\n",
       "      <td>-0.851315</td>\n",
       "      <td>1</td>\n",
       "      <td>0</td>\n",
       "      <td>0</td>\n",
       "      <td>...</td>\n",
       "      <td>0</td>\n",
       "      <td>0</td>\n",
       "      <td>0</td>\n",
       "      <td>0</td>\n",
       "      <td>0</td>\n",
       "      <td>0</td>\n",
       "      <td>0</td>\n",
       "      <td>0</td>\n",
       "      <td>0</td>\n",
       "      <td>1</td>\n",
       "    </tr>\n",
       "    <tr>\n",
       "      <th>4677</th>\n",
       "      <td>45.718825</td>\n",
       "      <td>3</td>\n",
       "      <td>4.000000</td>\n",
       "      <td>2.000000</td>\n",
       "      <td>-0.507227</td>\n",
       "      <td>0.369763</td>\n",
       "      <td>0.203376</td>\n",
       "      <td>1</td>\n",
       "      <td>0</td>\n",
       "      <td>0</td>\n",
       "      <td>...</td>\n",
       "      <td>0</td>\n",
       "      <td>0</td>\n",
       "      <td>0</td>\n",
       "      <td>0</td>\n",
       "      <td>0</td>\n",
       "      <td>0</td>\n",
       "      <td>0</td>\n",
       "      <td>1</td>\n",
       "      <td>0</td>\n",
       "      <td>1</td>\n",
       "    </tr>\n",
       "    <tr>\n",
       "      <th>4678</th>\n",
       "      <td>34.650522</td>\n",
       "      <td>2</td>\n",
       "      <td>5.650522</td>\n",
       "      <td>1.650522</td>\n",
       "      <td>-0.666480</td>\n",
       "      <td>-0.395926</td>\n",
       "      <td>-0.291609</td>\n",
       "      <td>0</td>\n",
       "      <td>0</td>\n",
       "      <td>0</td>\n",
       "      <td>...</td>\n",
       "      <td>0</td>\n",
       "      <td>0</td>\n",
       "      <td>0</td>\n",
       "      <td>0</td>\n",
       "      <td>0</td>\n",
       "      <td>1</td>\n",
       "      <td>0</td>\n",
       "      <td>0</td>\n",
       "      <td>0</td>\n",
       "      <td>1</td>\n",
       "    </tr>\n",
       "    <tr>\n",
       "      <th>4679</th>\n",
       "      <td>48.377519</td>\n",
       "      <td>2</td>\n",
       "      <td>3.000000</td>\n",
       "      <td>1.000000</td>\n",
       "      <td>-0.313917</td>\n",
       "      <td>-0.785066</td>\n",
       "      <td>-0.103247</td>\n",
       "      <td>0</td>\n",
       "      <td>0</td>\n",
       "      <td>0</td>\n",
       "      <td>...</td>\n",
       "      <td>0</td>\n",
       "      <td>0</td>\n",
       "      <td>0</td>\n",
       "      <td>0</td>\n",
       "      <td>0</td>\n",
       "      <td>0</td>\n",
       "      <td>0</td>\n",
       "      <td>0</td>\n",
       "      <td>0</td>\n",
       "      <td>1</td>\n",
       "    </tr>\n",
       "  </tbody>\n",
       "</table>\n",
       "<p>4680 rows × 33 columns</p>\n",
       "</div>"
      ],
      "text/plain": [
       "            Age  NumberOfPersonVisiting  NumberOfFollowups  \\\n",
       "0     50.000000                       3           3.000000   \n",
       "1     33.000000                       3           5.000000   \n",
       "2     32.000000                       3           1.000000   \n",
       "3     38.000000                       3           5.000000   \n",
       "4     35.000000                       3           4.000000   \n",
       "...         ...                     ...                ...   \n",
       "4675  35.000000                       3           3.932495   \n",
       "4676  45.756456                       3           5.512912   \n",
       "4677  45.718825                       3           4.000000   \n",
       "4678  34.650522                       2           5.650522   \n",
       "4679  48.377519                       2           3.000000   \n",
       "\n",
       "      NumberOfChildrenVisiting  NumberOfTrips_std  MonthlyIncome_std  \\\n",
       "0                     0.000000           0.466288           1.142691   \n",
       "1                     2.000000           1.599056          -0.516923   \n",
       "2                     2.000000          -1.232865          -1.039398   \n",
       "3                     2.000000           2.165440           1.206877   \n",
       "4                     2.000000          -1.232865          -1.002399   \n",
       "...                        ...                ...                ...   \n",
       "4675                  0.067505           1.484355          -0.288855   \n",
       "4676                  2.756456          -0.666480           2.665028   \n",
       "4677                  2.000000          -0.507227           0.369763   \n",
       "4678                  1.650522          -0.666480          -0.395926   \n",
       "4679                  1.000000          -0.313917          -0.785066   \n",
       "\n",
       "      DurationOfPitch_std  TypeofContact_label  Passport_label  OwnCar_label  \\\n",
       "0                1.828922                    1               1             0   \n",
       "1               -0.790558                    1               0             0   \n",
       "2               -0.541083                    1               1             1   \n",
       "3               -1.040032                    1               0             1   \n",
       "4                2.452607                    0               0             0   \n",
       "...                   ...                  ...             ...           ...   \n",
       "4675            -0.682661                    0               0             0   \n",
       "4676            -0.851315                    1               0             0   \n",
       "4677             0.203376                    1               0             0   \n",
       "4678            -0.291609                    0               0             0   \n",
       "4679            -0.103247                    0               0             0   \n",
       "\n",
       "      ...  MaritalStatus_Divorced  MaritalStatus_Married  \\\n",
       "0     ...                       1                      0   \n",
       "1     ...                       0                      0   \n",
       "2     ...                       0                      1   \n",
       "3     ...                       0                      1   \n",
       "4     ...                       0                      0   \n",
       "...   ...                     ...                    ...   \n",
       "4675  ...                       0                      0   \n",
       "4676  ...                       0                      0   \n",
       "4677  ...                       0                      0   \n",
       "4678  ...                       0                      0   \n",
       "4679  ...                       0                      0   \n",
       "\n",
       "      MaritalStatus_Single  MaritalStatus_Unmarried  Designation_AVP  \\\n",
       "0                        0                        0                1   \n",
       "1                        1                        0                0   \n",
       "2                        0                        0                0   \n",
       "3                        0                        0                0   \n",
       "4                        1                        0                0   \n",
       "...                    ...                      ...              ...   \n",
       "4675                     1                        0                0   \n",
       "4676                     0                        0                0   \n",
       "4677                     0                        0                0   \n",
       "4678                     0                        0                0   \n",
       "4679                     0                        0                0   \n",
       "\n",
       "      Designation_Executive  Designation_Manager  Designation_Senior Manager  \\\n",
       "0                         0                    0                           0   \n",
       "1                         0                    1                           0   \n",
       "2                         1                    0                           0   \n",
       "3                         0                    0                           1   \n",
       "4                         1                    0                           0   \n",
       "...                     ...                  ...                         ...   \n",
       "4675                      1                    0                           0   \n",
       "4676                      0                    0                           0   \n",
       "4677                      0                    0                           1   \n",
       "4678                      1                    0                           0   \n",
       "4679                      0                    0                           0   \n",
       "\n",
       "      Designation_VP  target  \n",
       "0                  0       0  \n",
       "1                  0       0  \n",
       "2                  0       0  \n",
       "3                  0       1  \n",
       "4                  0       1  \n",
       "...              ...     ...  \n",
       "4675               0       1  \n",
       "4676               0       1  \n",
       "4677               0       1  \n",
       "4678               0       1  \n",
       "4679               0       1  \n",
       "\n",
       "[4680 rows x 33 columns]"
      ]
     },
     "execution_count": 11,
     "metadata": {},
     "output_type": "execute_result"
    }
   ],
   "source": [
    "data = x_over_SMOTE\n",
    "data['target'] = pd.DataFrame(y_over_SMOTE)\n",
    "data"
   ]
  },
  {
   "cell_type": "code",
   "execution_count": 12,
   "id": "06fe7747-14b8-485f-bdb1-76de309f94fe",
   "metadata": {
    "colab": {
     "base_uri": "https://localhost:8080/"
    },
    "id": "_xzEq3SHHwWB",
    "outputId": "6809e59d-9d8d-4c82-a625-b7b7732b2a42"
   },
   "outputs": [
    {
     "name": "stdout",
     "output_type": "stream",
     "text": [
      "Original\n",
      "0    3120\n",
      "1     709\n",
      "dtype: int64\n",
      "\n",
      "SMOTE\n",
      "0    3120\n",
      "1    1560\n",
      "dtype: int64\n"
     ]
    }
   ],
   "source": [
    "print('Original')\n",
    "print(pd.Series(y).value_counts())\n",
    "print('')\n",
    "print('SMOTE')\n",
    "print(pd.Series(y_over_SMOTE).value_counts())"
   ]
  },
  {
   "cell_type": "markdown",
   "id": "d66e992a-09e2-4d91-8b7a-bfa5d31374ba",
   "metadata": {},
   "source": [
    "## Data Split Conclusion"
   ]
  },
  {
   "cell_type": "markdown",
   "id": "26e3edc3-a8c1-4cc1-92ad-0a85fbadf943",
   "metadata": {},
   "source": [
    "- Data training : 3829 rows x 33 columns (minus feature CustomerID)\n",
    "- Data training setelah imbalancing : 4680 rows x 33 columns\n",
    "    - Target 0: 3120\n",
    "    - Target 1: 1560\n",
    "- Data testing : 958 rows x 33 columns"
   ]
  },
  {
   "cell_type": "markdown",
   "id": "6277eef9-f870-4acd-8b40-5647e491d833",
   "metadata": {},
   "source": [
    "# Classification Model"
   ]
  },
  {
   "cell_type": "markdown",
   "id": "7462aab2-cd8b-49d8-845d-e289f08ec90c",
   "metadata": {},
   "source": [
    "---"
   ]
  },
  {
   "cell_type": "markdown",
   "id": "2f202d74-5cda-491c-875a-4170f2af6eb2",
   "metadata": {},
   "source": [
    "## Logistic Regression\n",
    "sklearn Documentation: https://scikit-learn.org/stable/modules/generated/sklearn.linear_model.LogisticRegression.html"
   ]
  },
  {
   "cell_type": "code",
   "execution_count": 13,
   "id": "c26139c0-fcb4-4785-b54d-0cae68e0c43d",
   "metadata": {
    "ExecuteTime": {
     "end_time": "2021-03-21T02:47:14.894868Z",
     "start_time": "2021-03-21T02:47:14.851793Z"
    }
   },
   "outputs": [
    {
     "name": "stdout",
     "output_type": "stream",
     "text": [
      "The time of execution of above program is : 0.09498214721679688\n"
     ]
    }
   ],
   "source": [
    "from sklearn.linear_model import LogisticRegression\n",
    "\n",
    "start = time.time()\n",
    "logres = LogisticRegression(random_state=42)\n",
    "logres.fit(X_train, y_train)\n",
    "end = time.time()\n",
    "print(\"The time of execution of above program is :\", end-start)\n",
    "\n",
    "y_pred_test = logres.predict(X_test)"
   ]
  },
  {
   "cell_type": "markdown",
   "id": "401f60ae-6adb-46b5-9b11-e0c2298c8db3",
   "metadata": {},
   "source": [
    "### Evaluation"
   ]
  },
  {
   "cell_type": "code",
   "execution_count": 14,
   "id": "984b5528-84ed-4b92-a749-ee3abd8cdcf9",
   "metadata": {
    "ExecuteTime": {
     "end_time": "2021-03-21T02:47:16.155765Z",
     "start_time": "2021-03-21T02:47:16.126910Z"
    }
   },
   "outputs": [
    {
     "name": "stdout",
     "output_type": "stream",
     "text": [
      "Accuracy (Test Set): 0.84\n",
      "Precision (Test Set): 0.81\n",
      "Recall (Test Set): 0.31\n",
      "F1-Score (Test Set): 0.45\n",
      "AUC: 0.64\n"
     ]
    }
   ],
   "source": [
    "eval_classification(logres, y_pred_test, X_train, y_train, X_test, y_test)"
   ]
  },
  {
   "cell_type": "code",
   "execution_count": 15,
   "id": "80ca4429-09fe-41d2-aabd-14e8cc264314",
   "metadata": {},
   "outputs": [
    {
     "name": "stdout",
     "output_type": "stream",
     "text": [
      "Precision (Train Set): 0.70\n",
      "Precision (Test Set): 0.81\n"
     ]
    }
   ],
   "source": [
    "from sklearn.metrics import precision_score\n",
    "\n",
    "y_pred_test = logres.predict(X_test)\n",
    "y_pred_train = logres.predict(X_train)\n",
    "print(\"Precision (Train Set): %.2f\" % precision_score(y_train, y_pred_train))\n",
    "print(\"Precision (Test Set): %.2f\" % precision_score(y_test, y_pred_test))"
   ]
  },
  {
   "cell_type": "markdown",
   "id": "77fd531b-c7e9-42be-93b3-4069649a99dc",
   "metadata": {},
   "source": [
    "Underfit/Bestfit?"
   ]
  },
  {
   "cell_type": "code",
   "execution_count": 16,
   "id": "277041be-3a9f-4d8d-b4b2-d7bc65ebe80e",
   "metadata": {},
   "outputs": [
    {
     "name": "stdout",
     "output_type": "stream",
     "text": [
      "\n",
      "classification report\n",
      "              precision    recall  f1-score   support\n",
      "\n",
      "           0       0.84      0.98      0.91       759\n",
      "           1       0.81      0.31      0.45       199\n",
      "\n",
      "    accuracy                           0.84       958\n",
      "   macro avg       0.83      0.64      0.68       958\n",
      "weighted avg       0.84      0.84      0.81       958\n",
      "\n"
     ]
    }
   ],
   "source": [
    "from sklearn.metrics import classification_report\n",
    "\n",
    "print('\\nclassification report')\n",
    "print(classification_report(y_test, y_pred_test)) # generate the precision, recall, f-1 score, num"
   ]
  },
  {
   "cell_type": "code",
   "execution_count": 17,
   "id": "496f3c35-4a08-4e6b-af61-ce0a8716e4e3",
   "metadata": {},
   "outputs": [
    {
     "data": {
      "text/plain": [
       "array([[745,  14],\n",
       "       [138,  61]], dtype=int64)"
      ]
     },
     "execution_count": 17,
     "metadata": {},
     "output_type": "execute_result"
    }
   ],
   "source": [
    "from sklearn.metrics import confusion_matrix\n",
    "\n",
    "cf = confusion_matrix(y_test, y_pred_test)\n",
    "cf"
   ]
  },
  {
   "cell_type": "markdown",
   "id": "14e7040b-a41d-45dd-9939-7e8c75ba9a3f",
   "metadata": {},
   "source": [
    "### Feature Importance"
   ]
  },
  {
   "cell_type": "code",
   "execution_count": 18,
   "id": "9f3635ce-4710-4644-b249-622ae005b2f8",
   "metadata": {},
   "outputs": [
    {
     "data": {
      "image/png": "[encoded data removed]",
      "text/plain": [
       "<Figure size 720x576 with 1 Axes>"
      ]
     },
     "metadata": {
      "needs_background": "light"
     },
     "output_type": "display_data"
    }
   ],
   "source": [
    "feat_importances = pd.Series(logres.coef_[0], index=X.columns)\n",
    "ax = feat_importances.nlargest(32).plot(kind='barh', figsize=(10, 8))\n",
    "ax.invert_yaxis()\n",
    "\n",
    "plt.xlabel('Score')\n",
    "plt.ylabel('Feature')\n",
    "plt.title('Feature Importance Score')\n",
    "plt.show()"
   ]
  },
  {
   "cell_type": "markdown",
   "id": "80d1c327-794b-4924-8095-6595ca8fb121",
   "metadata": {},
   "source": [
    "https://shap.readthedocs.io/en/latest/example_notebooks/tabular_examples/linear_models/Sentiment%20Analysis%20with%20Logistic%20Regression.html"
   ]
  },
  {
   "cell_type": "code",
   "execution_count": 19,
   "id": "866fd25a-fd2c-4fd3-9642-6e16f87b89ce",
   "metadata": {},
   "outputs": [
    {
     "data": {
      "image/png": "[encoded data removed]",
      "text/plain": [
       "<Figure size 576x1029.6 with 2 Axes>"
      ]
     },
     "metadata": {
      "needs_background": "light"
     },
     "output_type": "display_data"
    }
   ],
   "source": [
    "import shap\n",
    "\n",
    "explainer = shap.Explainer(logres, X_train)\n",
    "shap_values = explainer(X_test)\n",
    "shap.summary_plot(shap_values, X_test, feature_names=X.columns, plot_type='dot', sort=True, max_display=32)"
   ]
  },
  {
   "cell_type": "markdown",
   "id": "5597f745-705c-4b8f-b52f-410a55712c45",
   "metadata": {},
   "source": [
    "### Hyperparameter tuning"
   ]
  },
  {
   "cell_type": "markdown",
   "id": "653922ee-a880-4233-95fb-53b5e157c87d",
   "metadata": {},
   "source": [
    "##### RandomizedCV, tanpa regularization"
   ]
  },
  {
   "cell_type": "code",
   "execution_count": 20,
   "id": "7909a89f-81c4-457a-9f3d-89a8c5f6b903",
   "metadata": {},
   "outputs": [
    {
     "name": "stdout",
     "output_type": "stream",
     "text": [
      "Accuracy (Test Set): 0.84\n",
      "Precision (Test Set): 0.82\n",
      "Recall (Test Set): 0.30\n",
      "F1-Score (Test Set): 0.44\n",
      "AUC: 0.64\n"
     ]
    }
   ],
   "source": [
    "from sklearn.model_selection import RandomizedSearchCV\n",
    "\n",
    "# List Hyperparameters yang akan diuji\n",
    "penalty = ['none']\n",
    "hyperparameters = dict(penalty=penalty)\n",
    "\n",
    "# Inisiasi model\n",
    "logres = LogisticRegression(random_state=42) # Init Logres dengan Gridsearch, cross validation = 5\n",
    "modelRS = RandomizedSearchCV(logres, hyperparameters, cv=5, random_state=42, scoring='precision')\n",
    "\n",
    "# Fitting Model & Evaluation\n",
    "modelRS.fit(X_train, y_train)\n",
    "y_pred_test = modelRS.predict(X_test)\n",
    "eval_classification(modelRS, y_pred_test, X_train, y_train, X_test, y_test)"
   ]
  },
  {
   "cell_type": "code",
   "execution_count": 21,
   "id": "e9d7d763-03d9-4eb9-8902-c1cbcc5486dc",
   "metadata": {},
   "outputs": [
    {
     "name": "stdout",
     "output_type": "stream",
     "text": [
      "Precision (Train Set): 0.70\n",
      "Precision (Test Set): 0.82\n"
     ]
    }
   ],
   "source": [
    "from sklearn.metrics import precision_score\n",
    "\n",
    "y_pred_train = modelRS.predict(X_train)\n",
    "print(\"Precision (Train Set): %.2f\" % precision_score(y_train, y_pred_train))\n",
    "print(\"Precision (Test Set): %.2f\" % precision_score(y_test, y_pred_test))"
   ]
  },
  {
   "cell_type": "markdown",
   "id": "4f3edcbf-1cf8-44ae-80a6-9f45d6197006",
   "metadata": {},
   "source": [
    "Underfit/Bestfit?"
   ]
  },
  {
   "cell_type": "markdown",
   "id": "2a4b964d-6edb-4798-b997-222a431cce30",
   "metadata": {},
   "source": [
    "##### GridSearchCV, tanpa regularization"
   ]
  },
  {
   "cell_type": "code",
   "execution_count": 22,
   "id": "18ad40fa-de7c-4ac7-9ff2-835a7ba62305",
   "metadata": {},
   "outputs": [
    {
     "name": "stdout",
     "output_type": "stream",
     "text": [
      "The time of execution of above program is : 0.3785068988800049\n",
      "Accuracy (Test Set): 0.84\n",
      "Precision (Test Set): 0.82\n",
      "Recall (Test Set): 0.30\n",
      "F1-Score (Test Set): 0.44\n",
      "AUC: 0.64\n"
     ]
    }
   ],
   "source": [
    "from sklearn.model_selection import GridSearchCV\n",
    "\n",
    "# List Hyperparameters yang akan diuji\n",
    "penalty = ['none']\n",
    "hyperparameters = dict(penalty=penalty)\n",
    "\n",
    "# Inisiasi model\n",
    "start = time.time()\n",
    "logres = LogisticRegression(random_state=42) # Init Logres dengan Gridsearch, cross validation = 5\n",
    "modelGS = GridSearchCV(logres, hyperparameters, cv=5, scoring='precision')\n",
    "\n",
    "# Fitting Model & Evaluation\n",
    "modelGS.fit(X_train, y_train)\n",
    "end = time.time()\n",
    "print(\"The time of execution of above program is :\", end-start)\n",
    "\n",
    "y_pred_test = modelGS.predict(X_test)\n",
    "eval_classification(modelGS, y_pred_test, X_train, y_train, X_test, y_test)"
   ]
  },
  {
   "cell_type": "code",
   "execution_count": 23,
   "id": "dcce3315-3c98-480a-ad3a-527dca9cce69",
   "metadata": {},
   "outputs": [
    {
     "data": {
      "text/plain": [
       "array([[746,  13],\n",
       "       [140,  59]], dtype=int64)"
      ]
     },
     "execution_count": 23,
     "metadata": {},
     "output_type": "execute_result"
    }
   ],
   "source": [
    "from sklearn.metrics import confusion_matrix\n",
    "\n",
    "cf = confusion_matrix(y_test, y_pred_test)\n",
    "cf"
   ]
  },
  {
   "cell_type": "code",
   "execution_count": 24,
   "id": "b23e144f-197d-4d09-ada5-e9a53f26fc11",
   "metadata": {},
   "outputs": [
    {
     "name": "stdout",
     "output_type": "stream",
     "text": [
      "Precision (Train Set): 0.70\n",
      "Precision (Test Set): 0.82\n"
     ]
    }
   ],
   "source": [
    "from sklearn.metrics import precision_score\n",
    "\n",
    "y_pred_train = modelGS.predict(X_train)\n",
    "print(\"Precision (Train Set): %.2f\" % precision_score(y_train, y_pred_train))\n",
    "print(\"Precision (Test Set): %.2f\" % precision_score(y_test, y_pred_test))"
   ]
  },
  {
   "cell_type": "markdown",
   "id": "09bb9450-d6c3-4eec-8e61-0c75af3738ec",
   "metadata": {},
   "source": [
    "Underfit/Bestfit?"
   ]
  },
  {
   "cell_type": "markdown",
   "id": "16a59334-5b76-4e5e-980f-53242fa55c4f",
   "metadata": {},
   "source": [
    "##### Hyperparameter tuning (dengan regularization) dan RandomSearchCV "
   ]
  },
  {
   "cell_type": "code",
   "execution_count": 25,
   "id": "b7aa013c-1fbf-491d-8908-331bcfdbfc02",
   "metadata": {},
   "outputs": [
    {
     "name": "stdout",
     "output_type": "stream",
     "text": [
      "Accuracy (Test Set): 0.81\n",
      "Precision (Test Set): 1.00\n",
      "Recall (Test Set): 0.10\n",
      "F1-Score (Test Set): 0.17\n",
      "AUC: 0.55\n"
     ]
    }
   ],
   "source": [
    "from sklearn.model_selection import RandomizedSearchCV\n",
    "\n",
    "# List Hyperparameters yang akan diuji\n",
    "penalty = ['l2','l1','elasticnet']\n",
    "C = [0.0001, 0.005] # Inverse of regularization strength; smaller values specify stronger regularization.\n",
    "hyperparameters = dict(penalty=penalty, C=C)\n",
    "\n",
    "# Inisiasi model\n",
    "logres = LogisticRegression(random_state=42) # Init Logres dengan Gridsearch, cross validation = 5\n",
    "modelRSreg = RandomizedSearchCV(logres, hyperparameters, cv=5, random_state=42, scoring='precision')\n",
    "\n",
    "# Fitting Model & Evaluation\n",
    "modelRSreg.fit(X_train, y_train)\n",
    "y_pred_test = modelRSreg.predict(X_test)\n",
    "eval_classification(modelRSreg, y_pred_test, X_train, y_train, X_test, y_test)"
   ]
  },
  {
   "cell_type": "code",
   "execution_count": 26,
   "id": "84146ed2-2951-4e08-91ad-776ff402239b",
   "metadata": {},
   "outputs": [
    {
     "name": "stdout",
     "output_type": "stream",
     "text": [
      "Precision (Train Set): 0.94\n",
      "Precision (Test Set): 1.00\n"
     ]
    }
   ],
   "source": [
    "y_pred_train = modelRSreg.predict(X_train)\n",
    "print(\"Precision (Train Set): %.2f\" % precision_score(y_train, y_pred_train))\n",
    "print(\"Precision (Test Set): %.2f\" % precision_score(y_test, y_pred_test))"
   ]
  },
  {
   "cell_type": "code",
   "execution_count": 27,
   "id": "6f850cf0-f51e-4bc5-81b4-3189a6297fcf",
   "metadata": {
    "ExecuteTime": {
     "end_time": "2021-03-21T02:49:49.896954Z",
     "start_time": "2021-03-21T02:49:49.891831Z"
    }
   },
   "outputs": [
    {
     "name": "stdout",
     "output_type": "stream",
     "text": [
      "Best algorithm: l2\n",
      "Best C: 0.005\n"
     ]
    }
   ],
   "source": [
    "print('Best algorithm:', modelRSreg.best_estimator_.get_params()['penalty'])\n",
    "print('Best C:', modelRSreg.best_estimator_.get_params()['C'])"
   ]
  },
  {
   "cell_type": "markdown",
   "id": "dbc29a0f-59b7-46b6-8b67-34a4d48510be",
   "metadata": {},
   "source": [
    "---"
   ]
  },
  {
   "cell_type": "markdown",
   "id": "562ed526-e643-4018-bd57-6cd54b6f055a",
   "metadata": {},
   "source": [
    "## Decision Tree"
   ]
  },
  {
   "cell_type": "code",
   "execution_count": 28,
   "id": "ea23b9e2-7f2b-4d5e-bcc6-9a20d3828ee3",
   "metadata": {},
   "outputs": [
    {
     "name": "stdout",
     "output_type": "stream",
     "text": [
      "The time of execution of above program is : 0.042443037033081055\n"
     ]
    }
   ],
   "source": [
    "X = df.drop(columns=['CustomerID','ProdTaken'])\n",
    "y = df['ProdTaken']\n",
    "\n",
    "from sklearn.model_selection import train_test_split \n",
    "X_train, X_test, y_train, y_test = train_test_split(X, y, test_size = 0.2, random_state = 42)\n",
    "\n",
    "from sklearn.tree import DecisionTreeClassifier\n",
    "start = time.time()\n",
    "model = DecisionTreeClassifier(random_state=42)\n",
    "model.fit(X_train,y_train)\n",
    "end = time.time()\n",
    "print(\"The time of execution of above program is :\", end-start)\n",
    "y_pred_test = model.predict(X_test)"
   ]
  },
  {
   "cell_type": "markdown",
   "id": "5cefc3d0-16b8-4cc3-b13c-51833db4534b",
   "metadata": {},
   "source": [
    "### Evaluation"
   ]
  },
  {
   "cell_type": "code",
   "execution_count": 30,
   "id": "9b5b409d-20e9-4e86-9e5a-8ae2b99377d1",
   "metadata": {},
   "outputs": [
    {
     "name": "stdout",
     "output_type": "stream",
     "text": [
      "Accuracy (Test Set): 0.90\n",
      "Precision (Test Set): 0.78\n",
      "Recall (Test Set): 0.71\n",
      "F1-Score (Test Set): 0.74\n",
      "AUC: 0.83\n"
     ]
    }
   ],
   "source": [
    "eval_classification(model, y_pred_test, X_train, y_train, X_test, y_test)"
   ]
  },
  {
   "cell_type": "code",
   "execution_count": 31,
   "id": "ad7e9f58-e8bd-4235-9789-ad4221265097",
   "metadata": {},
   "outputs": [
    {
     "data": {
      "text/plain": [
       "array([[720,  39],\n",
       "       [ 58, 141]], dtype=int64)"
      ]
     },
     "execution_count": 31,
     "metadata": {},
     "output_type": "execute_result"
    }
   ],
   "source": [
    "from sklearn.metrics import confusion_matrix\n",
    "\n",
    "cf = confusion_matrix(y_test, y_pred_test)\n",
    "cf"
   ]
  },
  {
   "cell_type": "code",
   "execution_count": 32,
   "id": "1ea0e65d-7736-44ae-9e2f-79c861925b38",
   "metadata": {},
   "outputs": [
    {
     "name": "stdout",
     "output_type": "stream",
     "text": [
      "Precision (Train Set): 1.0\n",
      "Precision (Test Set):0.7833333333333333\n"
     ]
    }
   ],
   "source": [
    "from sklearn.metrics import precision_score\n",
    "\n",
    "y_pred_train = model.predict(X_train)\n",
    "print(\"Precision (Train Set): \" +str(precision_score(y_train, y_pred_train)))\n",
    "print(\"Precision (Test Set):\" +str(precision_score(y_test, y_pred_test)))"
   ]
  },
  {
   "cell_type": "markdown",
   "id": "5a5cadb8-0b0b-480e-b7e9-e55a7889785b",
   "metadata": {},
   "source": [
    "Overfit"
   ]
  },
  {
   "cell_type": "markdown",
   "id": "e9a62089-7604-4a2d-a917-3bc8d8d1cd7f",
   "metadata": {},
   "source": [
    "### Regularization"
   ]
  },
  {
   "cell_type": "code",
   "execution_count": 33,
   "id": "cd0e2cc5-99e3-4f98-9647-96bf720390cb",
   "metadata": {},
   "outputs": [
    {
     "name": "stdout",
     "output_type": "stream",
     "text": [
      "The time of execution of above program is : 0.5499260425567627\n",
      "Accuracy (Test Set): 0.83\n",
      "Precision (Test Set): 0.74\n",
      "Recall (Test Set): 0.27\n",
      "F1-Score (Test Set): 0.39\n",
      "AUC: 0.62\n"
     ]
    }
   ],
   "source": [
    "from sklearn.model_selection import RandomizedSearchCV\n",
    "from scipy.stats import uniform\n",
    "import numpy as np\n",
    "\n",
    "# List of hyperparameter\n",
    "start = time.time()\n",
    "max_depth = [int(x) for x in np.linspace(1, 110, num = 30)] # Maximum number of levels in tree\n",
    "min_samples_split = [2, 5, 10, 100] # Minimum number of samples required to split a node\n",
    "min_samples_leaf = [1, 2, 4, 10, 20, 50] # Minimum number of samples required at each leaf node\n",
    "max_features = ['auto', 'sqrt'] # Number of features to consider at every split\n",
    "\n",
    "hyperparameters = dict(max_depth=max_depth, \n",
    "                       min_samples_split=min_samples_split, \n",
    "                       min_samples_leaf=min_samples_leaf,\n",
    "                       max_features=max_features\n",
    "                      )\n",
    "\n",
    "# Inisialisasi Model\n",
    "dt = DecisionTreeClassifier(random_state=42)\n",
    "model = RandomizedSearchCV(dt, hyperparameters, cv=5, random_state=42, scoring='precision')\n",
    "model.fit(X_train, y_train)\n",
    "end = time.time()\n",
    "print(\"The time of execution of above program is :\", end-start)\n",
    "\n",
    "# Predict & Evaluation\n",
    "y_pred_test = model.predict(X_test)#Check performa dari model\n",
    "eval_classification(model, y_pred_test, X_train, y_train, X_test, y_test)"
   ]
  },
  {
   "cell_type": "code",
   "execution_count": 34,
   "id": "b88e8b3c-c8a5-4c2c-9cb7-0da1b9eac121",
   "metadata": {},
   "outputs": [
    {
     "data": {
      "text/plain": [
       "array([[740,  19],\n",
       "       [146,  53]], dtype=int64)"
      ]
     },
     "execution_count": 34,
     "metadata": {},
     "output_type": "execute_result"
    }
   ],
   "source": [
    "from sklearn.metrics import confusion_matrix\n",
    "\n",
    "cf = confusion_matrix(y_test, y_pred_test)\n",
    "cf"
   ]
  },
  {
   "cell_type": "code",
   "execution_count": 35,
   "id": "ef635129-621b-471d-ac5d-8b37d5ac1457",
   "metadata": {},
   "outputs": [
    {
     "name": "stdout",
     "output_type": "stream",
     "text": [
      "Precision (Train Set): 0.7048192771084337\n",
      "Precision (Test Set):0.7361111111111112\n"
     ]
    }
   ],
   "source": [
    "from sklearn.metrics import precision_score\n",
    "\n",
    "y_pred_train = model.predict(X_train)\n",
    "print(\"Precision (Train Set): \" +str(precision_score(y_train, y_pred_train)))\n",
    "print(\"Precision (Test Set):\" +str(precision_score(y_test, y_pred_test)))"
   ]
  },
  {
   "cell_type": "markdown",
   "id": "a9313b54-00e7-4302-a6cd-116c8dd96799",
   "metadata": {},
   "source": [
    "Best Fit tetapi nilai masih rendah"
   ]
  },
  {
   "cell_type": "markdown",
   "id": "008d68e8-efe0-4ac9-b548-c6654ec7b65f",
   "metadata": {},
   "source": [
    "### Bagging: Random Forest"
   ]
  },
  {
   "cell_type": "code",
   "execution_count": 36,
   "id": "f285f4da-c38b-4be7-b253-08666ee9b448",
   "metadata": {},
   "outputs": [
    {
     "name": "stdout",
     "output_type": "stream",
     "text": [
      "The time of execution of above program is : 0.6101374626159668\n",
      "Accuracy (Test Set): 0.90\n",
      "Precision (Test Set): 0.99\n",
      "Recall (Test Set): 0.53\n",
      "F1-Score (Test Set): 0.69\n",
      "AUC: 0.76\n"
     ]
    }
   ],
   "source": [
    "from sklearn.ensemble import RandomForestClassifier\n",
    "\n",
    "start = time.time()\n",
    "rf = RandomForestClassifier(random_state=42)\n",
    "rf.fit(X_train,y_train)\n",
    "end = time.time()\n",
    "print(\"The time of execution of above program is :\", end-start)\n",
    "\n",
    "y_pred_test = rf.predict(X_test)\n",
    "eval_classification(rf, y_pred_test, X_train, y_train, X_test, y_test)"
   ]
  },
  {
   "cell_type": "code",
   "execution_count": 37,
   "id": "a2c7fbc8-0571-45cd-9ce5-9f64bfd2d110",
   "metadata": {},
   "outputs": [
    {
     "data": {
      "text/plain": [
       "array([[758,   1],\n",
       "       [ 94, 105]], dtype=int64)"
      ]
     },
     "execution_count": 37,
     "metadata": {},
     "output_type": "execute_result"
    }
   ],
   "source": [
    "from sklearn.metrics import confusion_matrix\n",
    "\n",
    "cf = confusion_matrix(y_test, y_pred_test)\n",
    "cf"
   ]
  },
  {
   "cell_type": "code",
   "execution_count": 38,
   "id": "b1571816-2636-4d92-8fa4-5467e43eac34",
   "metadata": {},
   "outputs": [
    {
     "name": "stdout",
     "output_type": "stream",
     "text": [
      "Precision (Train Set): 1.0\n",
      "Precision (Test Set):0.9905660377358491\n"
     ]
    }
   ],
   "source": [
    "from sklearn.metrics import precision_score\n",
    "\n",
    "y_pred_train = rf.predict(X_train)\n",
    "y_pred = rf.predict(X_test)\n",
    "print(\"Precision (Train Set): \" +str(precision_score(y_train, y_pred_train)))\n",
    "print(\"Precision (Test Set):\" +str(precision_score(y_test, y_pred_test)))"
   ]
  },
  {
   "cell_type": "code",
   "execution_count": 39,
   "id": "97b7b3b4-4b58-447c-9475-af33aa293647",
   "metadata": {},
   "outputs": [
    {
     "data": {
      "image/png": "[encoded data removed]",
      "text/plain": [
       "<Figure size 720x576 with 1 Axes>"
      ]
     },
     "metadata": {
      "needs_background": "light"
     },
     "output_type": "display_data"
    }
   ],
   "source": [
    "show_feature_importance(rf)"
   ]
  },
  {
   "cell_type": "markdown",
   "id": "f31f663e-ad50-4708-b6ce-ee51fe1f9880",
   "metadata": {},
   "source": [
    "https://analyticsindiamag.com/hands-on-guide-to-interpret-machine-learning-with-shap/"
   ]
  },
  {
   "cell_type": "code",
   "execution_count": 40,
   "id": "80f3e1fc-c044-4307-85b5-a33c6e9fafb6",
   "metadata": {},
   "outputs": [
    {
     "data": {
      "image/png": "[encoded data removed]",
      "text/plain": [
       "<Figure size 576x1029.6 with 2 Axes>"
      ]
     },
     "metadata": {
      "needs_background": "light"
     },
     "output_type": "display_data"
    }
   ],
   "source": [
    "explainer = shap.TreeExplainer(rf)\n",
    "shap_values = explainer.shap_values(X_test)\n",
    "shap.summary_plot(shap_values[1], X_test, sort=True, max_display=32)"
   ]
  },
  {
   "cell_type": "code",
   "execution_count": 41,
   "id": "b48edcf2-0ffe-43cb-951a-519f8376e964",
   "metadata": {},
   "outputs": [
    {
     "name": "stdout",
     "output_type": "stream",
     "text": [
      "Accuracy (Test Set): 0.89\n",
      "Precision (Test Set): 1.00\n",
      "Recall (Test Set): 0.47\n",
      "F1-Score (Test Set): 0.64\n",
      "AUC: 0.74\n"
     ]
    }
   ],
   "source": [
    "from sklearn.model_selection import RandomizedSearchCV\n",
    "\n",
    "#List Hyperparameters yang akan diuji\n",
    "hyperparameters = dict(\n",
    "                       n_estimators = [int(x) for x in np.linspace(start = 100, stop = 2000, num = 20)], # Jumlah subtree \n",
    "                       bootstrap = [True], # Apakah pakai bootstrapping atau tidak\n",
    "                       criterion = ['gini','entropy'],\n",
    "                       max_depth = [int(x) for x in np.linspace(10, 110, num = 11)],  # Maximum kedalaman tree\n",
    "                       min_samples_split = [int(x) for x in np.linspace(start = 2, stop = 10, num = 5)], # Jumlah minimum samples pada node agar boleh di split menjadi leaf baru\n",
    "                       min_samples_leaf = [int(x) for x in np.linspace(start = 1, stop = 10, num = 5)], # Jumlah minimum samples pada leaf agar boleh terbentuk leaf baru\n",
    "                       max_features = ['auto', 'sqrt', 'log2'], # Jumlah feature yg dipertimbangkan pada masing-masing split\n",
    "                       n_jobs = [-1], # Core untuk parallel computation. -1 untuk menggunakan semua core\n",
    "                      )\n",
    "\n",
    "# Init\n",
    "rf = RandomForestClassifier(random_state=42)\n",
    "rf_tuned = RandomizedSearchCV(rf, hyperparameters, cv=5, random_state=42, scoring='precision')\n",
    "rf_tuned.fit(X_train,y_train)\n",
    "y_pred_test = rf_tuned.predict(X_test)\n",
    "\n",
    "# Predict & Evaluation\n",
    "eval_classification(rf_tuned, y_pred_test, X_train, y_train, X_test, y_test)"
   ]
  },
  {
   "cell_type": "code",
   "execution_count": 42,
   "id": "719c1795-f378-41d2-9786-3421b11a52cc",
   "metadata": {},
   "outputs": [
    {
     "name": "stdout",
     "output_type": "stream",
     "text": [
      "Precision (Train Set): 1.0\n",
      "Precision (Test Set):1.0\n"
     ]
    }
   ],
   "source": [
    "from sklearn.metrics import precision_score\n",
    "y_pred_train = rf_tuned.predict(X_train)\n",
    "y_pred = rf_tuned.predict(X_test)\n",
    "print(\"Precision (Train Set): \" +str(precision_score(y_train, y_pred_train)))\n",
    "print(\"Precision (Test Set):\" +str(precision_score(y_test, y_pred_test)))"
   ]
  },
  {
   "cell_type": "code",
   "execution_count": 43,
   "id": "9a2be924-c556-4372-9af0-83539053a49e",
   "metadata": {},
   "outputs": [
    {
     "data": {
      "image/png": "[encoded data removed]",
      "text/plain": [
       "<Figure size 720x576 with 1 Axes>"
      ]
     },
     "metadata": {
      "needs_background": "light"
     },
     "output_type": "display_data"
    }
   ],
   "source": [
    "show_feature_importance(rf_tuned.best_estimator_)"
   ]
  },
  {
   "cell_type": "markdown",
   "id": "315f906e-52d7-442b-9c8e-c4e8fdd3c265",
   "metadata": {},
   "source": [
    "---"
   ]
  },
  {
   "cell_type": "markdown",
   "id": "5d696c5e-09c0-46a3-8cdc-93b977059328",
   "metadata": {},
   "source": [
    "## XGBoost"
   ]
  },
  {
   "cell_type": "code",
   "execution_count": 44,
   "id": "6ff79a99-7127-4666-8ec0-00ce3865847d",
   "metadata": {},
   "outputs": [],
   "source": [
    "X = df.drop(columns=['CustomerID','ProdTaken'])\n",
    "y = df['ProdTaken']\n",
    "\n",
    "from sklearn.model_selection import train_test_split \n",
    "X_train, X_test, y_train, y_test = train_test_split(X, y, test_size = 0.2, random_state = 42)"
   ]
  },
  {
   "cell_type": "code",
   "execution_count": 45,
   "id": "5c392f36-8759-4957-9d64-fef2618213b8",
   "metadata": {
    "ExecuteTime": {
     "end_time": "2021-11-20T22:08:07.743717Z",
     "start_time": "2021-11-20T22:08:07.557560Z"
    }
   },
   "outputs": [
    {
     "name": "stdout",
     "output_type": "stream",
     "text": [
      "[21:46:06] WARNING: C:/Users/Administrator/workspace/xgboost-win64_release_1.5.1/src/learner.cc:1115: Starting in XGBoost 1.3.0, the default evaluation metric used with the objective 'binary:logistic' was changed from 'error' to 'logloss'. Explicitly set eval_metric if you'd like to restore the old behavior.\n",
      "The time of execution of above program is : 0.36687397956848145\n",
      "Accuracy (Test Set): 0.93\n",
      "Precision (Test Set): 0.95\n",
      "Recall (Test Set): 0.70\n",
      "F1-Score (Test Set): 0.81\n",
      "AUC: 0.85\n"
     ]
    }
   ],
   "source": [
    "from xgboost import XGBClassifier\n",
    "\n",
    "start = time.time()\n",
    "xg = XGBClassifier(random_state=42)\n",
    "xg.fit(X_train, y_train)\n",
    "end = time.time()\n",
    "print(\"The time of execution of above program is :\", end-start)\n",
    "\n",
    "y_pred_test = xg.predict(X_test)\n",
    "eval_classification(xg, y_pred_test, X_train, y_train, X_test, y_test)"
   ]
  },
  {
   "cell_type": "code",
   "execution_count": 46,
   "id": "f3e3f73a-2fa3-40e7-b373-28cd4cb5c44e",
   "metadata": {},
   "outputs": [
    {
     "data": {
      "text/plain": [
       "array([[752,   7],\n",
       "       [ 59, 140]], dtype=int64)"
      ]
     },
     "execution_count": 46,
     "metadata": {},
     "output_type": "execute_result"
    }
   ],
   "source": [
    "from sklearn.metrics import confusion_matrix\n",
    "\n",
    "cf = confusion_matrix(y_test, y_pred_test)\n",
    "cf"
   ]
  },
  {
   "cell_type": "code",
   "execution_count": 47,
   "id": "b05a892d-c72c-494d-b7b6-aa5f2b5523ad",
   "metadata": {},
   "outputs": [
    {
     "name": "stdout",
     "output_type": "stream",
     "text": [
      "[21:46:06] WARNING: C:/Users/Administrator/workspace/xgboost-win64_release_1.5.1/src/learner.cc:1115: Starting in XGBoost 1.3.0, the default evaluation metric used with the objective 'binary:logistic' was changed from 'error' to 'logloss'. Explicitly set eval_metric if you'd like to restore the old behavior.\n",
      "Precision (Train Set): 1.0\n",
      "Precision (Test Set):0.9523809523809523\n"
     ]
    }
   ],
   "source": [
    "from sklearn.metrics import precision_score\n",
    "xg.fit(X_train, y_train)\n",
    "y_pred_train = xg.predict(X_train)\n",
    "y_pred = xg.predict(X_test)\n",
    "print(\"Precision (Train Set): \" +str(precision_score(y_train, y_pred_train)))\n",
    "print(\"Precision (Test Set):\" +str(precision_score(y_test, y_pred_test)))"
   ]
  },
  {
   "cell_type": "code",
   "execution_count": 48,
   "id": "52c9784b-2130-490b-af76-199972df73dd",
   "metadata": {
    "ExecuteTime": {
     "end_time": "2021-11-20T22:08:07.904619Z",
     "start_time": "2021-11-20T22:08:07.744781Z"
    }
   },
   "outputs": [
    {
     "data": {
      "image/png": "[encoded data removed]",
      "text/plain": [
       "<Figure size 720x576 with 1 Axes>"
      ]
     },
     "metadata": {
      "needs_background": "light"
     },
     "output_type": "display_data"
    }
   ],
   "source": [
    "show_feature_importance(xg)"
   ]
  },
  {
   "cell_type": "markdown",
   "id": "c822324b-6908-4340-8711-6eeb1485427b",
   "metadata": {},
   "source": [
    "### Hyperparameter Tuning"
   ]
  },
  {
   "cell_type": "code",
   "execution_count": 49,
   "id": "aed3a24c-ccfe-4e80-a9fa-e320d8568c85",
   "metadata": {
    "ExecuteTime": {
     "end_time": "2021-11-20T22:08:09.361333Z",
     "start_time": "2021-11-20T22:08:07.905721Z"
    },
    "scrolled": true
   },
   "outputs": [
    {
     "name": "stdout",
     "output_type": "stream",
     "text": [
      "[21:46:07] WARNING: C:/Users/Administrator/workspace/xgboost-win64_release_1.5.1/src/learner.cc:1115: Starting in XGBoost 1.3.0, the default evaluation metric used with the objective 'binary:logistic' was changed from 'error' to 'logloss'. Explicitly set eval_metric if you'd like to restore the old behavior.\n",
      "[21:46:07] WARNING: C:/Users/Administrator/workspace/xgboost-win64_release_1.5.1/src/learner.cc:1115: Starting in XGBoost 1.3.0, the default evaluation metric used with the objective 'binary:logistic' was changed from 'error' to 'logloss'. Explicitly set eval_metric if you'd like to restore the old behavior.\n",
      "[21:46:07] WARNING: C:/Users/Administrator/workspace/xgboost-win64_release_1.5.1/src/learner.cc:1115: Starting in XGBoost 1.3.0, the default evaluation metric used with the objective 'binary:logistic' was changed from 'error' to 'logloss'. Explicitly set eval_metric if you'd like to restore the old behavior.\n",
      "[21:46:07] WARNING: C:/Users/Administrator/workspace/xgboost-win64_release_1.5.1/src/learner.cc:1115: Starting in XGBoost 1.3.0, the default evaluation metric used with the objective 'binary:logistic' was changed from 'error' to 'logloss'. Explicitly set eval_metric if you'd like to restore the old behavior.\n",
      "[21:46:07] WARNING: C:/Users/Administrator/workspace/xgboost-win64_release_1.5.1/src/learner.cc:1115: Starting in XGBoost 1.3.0, the default evaluation metric used with the objective 'binary:logistic' was changed from 'error' to 'logloss'. Explicitly set eval_metric if you'd like to restore the old behavior.\n",
      "[21:46:08] WARNING: C:/Users/Administrator/workspace/xgboost-win64_release_1.5.1/src/learner.cc:1115: Starting in XGBoost 1.3.0, the default evaluation metric used with the objective 'binary:logistic' was changed from 'error' to 'logloss'. Explicitly set eval_metric if you'd like to restore the old behavior.\n",
      "[21:46:08] WARNING: C:/Users/Administrator/workspace/xgboost-win64_release_1.5.1/src/learner.cc:1115: Starting in XGBoost 1.3.0, the default evaluation metric used with the objective 'binary:logistic' was changed from 'error' to 'logloss'. Explicitly set eval_metric if you'd like to restore the old behavior.\n",
      "[21:46:08] WARNING: C:/Users/Administrator/workspace/xgboost-win64_release_1.5.1/src/learner.cc:1115: Starting in XGBoost 1.3.0, the default evaluation metric used with the objective 'binary:logistic' was changed from 'error' to 'logloss'. Explicitly set eval_metric if you'd like to restore the old behavior.\n",
      "[21:46:08] WARNING: C:/Users/Administrator/workspace/xgboost-win64_release_1.5.1/src/learner.cc:1115: Starting in XGBoost 1.3.0, the default evaluation metric used with the objective 'binary:logistic' was changed from 'error' to 'logloss'. Explicitly set eval_metric if you'd like to restore the old behavior.\n",
      "[21:46:08] WARNING: C:/Users/Administrator/workspace/xgboost-win64_release_1.5.1/src/learner.cc:1115: Starting in XGBoost 1.3.0, the default evaluation metric used with the objective 'binary:logistic' was changed from 'error' to 'logloss'. Explicitly set eval_metric if you'd like to restore the old behavior.\n",
      "[21:46:08] WARNING: C:/Users/Administrator/workspace/xgboost-win64_release_1.5.1/src/learner.cc:1115: Starting in XGBoost 1.3.0, the default evaluation metric used with the objective 'binary:logistic' was changed from 'error' to 'logloss'. Explicitly set eval_metric if you'd like to restore the old behavior.\n",
      "[21:46:08] WARNING: C:/Users/Administrator/workspace/xgboost-win64_release_1.5.1/src/learner.cc:1115: Starting in XGBoost 1.3.0, the default evaluation metric used with the objective 'binary:logistic' was changed from 'error' to 'logloss'. Explicitly set eval_metric if you'd like to restore the old behavior.\n",
      "[21:46:09] WARNING: C:/Users/Administrator/workspace/xgboost-win64_release_1.5.1/src/learner.cc:1115: Starting in XGBoost 1.3.0, the default evaluation metric used with the objective 'binary:logistic' was changed from 'error' to 'logloss'. Explicitly set eval_metric if you'd like to restore the old behavior.\n",
      "[21:46:09] WARNING: C:/Users/Administrator/workspace/xgboost-win64_release_1.5.1/src/learner.cc:1115: Starting in XGBoost 1.3.0, the default evaluation metric used with the objective 'binary:logistic' was changed from 'error' to 'logloss'. Explicitly set eval_metric if you'd like to restore the old behavior.\n",
      "[21:46:09] WARNING: C:/Users/Administrator/workspace/xgboost-win64_release_1.5.1/src/learner.cc:1115: Starting in XGBoost 1.3.0, the default evaluation metric used with the objective 'binary:logistic' was changed from 'error' to 'logloss'. Explicitly set eval_metric if you'd like to restore the old behavior.\n",
      "[21:46:09] WARNING: C:/Users/Administrator/workspace/xgboost-win64_release_1.5.1/src/learner.cc:1115: Starting in XGBoost 1.3.0, the default evaluation metric used with the objective 'binary:logistic' was changed from 'error' to 'logloss'. Explicitly set eval_metric if you'd like to restore the old behavior.\n",
      "[21:46:09] WARNING: C:/Users/Administrator/workspace/xgboost-win64_release_1.5.1/src/learner.cc:1115: Starting in XGBoost 1.3.0, the default evaluation metric used with the objective 'binary:logistic' was changed from 'error' to 'logloss'. Explicitly set eval_metric if you'd like to restore the old behavior.\n",
      "[21:46:09] WARNING: C:/Users/Administrator/workspace/xgboost-win64_release_1.5.1/src/learner.cc:1115: Starting in XGBoost 1.3.0, the default evaluation metric used with the objective 'binary:logistic' was changed from 'error' to 'logloss'. Explicitly set eval_metric if you'd like to restore the old behavior.\n",
      "[21:46:10] WARNING: C:/Users/Administrator/workspace/xgboost-win64_release_1.5.1/src/learner.cc:1115: Starting in XGBoost 1.3.0, the default evaluation metric used with the objective 'binary:logistic' was changed from 'error' to 'logloss'. Explicitly set eval_metric if you'd like to restore the old behavior.\n",
      "[21:46:10] WARNING: C:/Users/Administrator/workspace/xgboost-win64_release_1.5.1/src/learner.cc:1115: Starting in XGBoost 1.3.0, the default evaluation metric used with the objective 'binary:logistic' was changed from 'error' to 'logloss'. Explicitly set eval_metric if you'd like to restore the old behavior.\n",
      "[21:46:10] WARNING: C:/Users/Administrator/workspace/xgboost-win64_release_1.5.1/src/learner.cc:1115: Starting in XGBoost 1.3.0, the default evaluation metric used with the objective 'binary:logistic' was changed from 'error' to 'logloss'. Explicitly set eval_metric if you'd like to restore the old behavior.\n",
      "[21:46:10] WARNING: C:/Users/Administrator/workspace/xgboost-win64_release_1.5.1/src/learner.cc:1115: Starting in XGBoost 1.3.0, the default evaluation metric used with the objective 'binary:logistic' was changed from 'error' to 'logloss'. Explicitly set eval_metric if you'd like to restore the old behavior.\n",
      "[21:46:11] WARNING: C:/Users/Administrator/workspace/xgboost-win64_release_1.5.1/src/learner.cc:1115: Starting in XGBoost 1.3.0, the default evaluation metric used with the objective 'binary:logistic' was changed from 'error' to 'logloss'. Explicitly set eval_metric if you'd like to restore the old behavior.\n",
      "[21:46:11] WARNING: C:/Users/Administrator/workspace/xgboost-win64_release_1.5.1/src/learner.cc:1115: Starting in XGBoost 1.3.0, the default evaluation metric used with the objective 'binary:logistic' was changed from 'error' to 'logloss'. Explicitly set eval_metric if you'd like to restore the old behavior.\n",
      "[21:46:11] WARNING: C:/Users/Administrator/workspace/xgboost-win64_release_1.5.1/src/learner.cc:1115: Starting in XGBoost 1.3.0, the default evaluation metric used with the objective 'binary:logistic' was changed from 'error' to 'logloss'. Explicitly set eval_metric if you'd like to restore the old behavior.\n",
      "[21:46:11] WARNING: C:/Users/Administrator/workspace/xgboost-win64_release_1.5.1/src/learner.cc:1115: Starting in XGBoost 1.3.0, the default evaluation metric used with the objective 'binary:logistic' was changed from 'error' to 'logloss'. Explicitly set eval_metric if you'd like to restore the old behavior.\n",
      "[21:46:11] WARNING: C:/Users/Administrator/workspace/xgboost-win64_release_1.5.1/src/learner.cc:1115: Starting in XGBoost 1.3.0, the default evaluation metric used with the objective 'binary:logistic' was changed from 'error' to 'logloss'. Explicitly set eval_metric if you'd like to restore the old behavior.\n",
      "[21:46:12] WARNING: C:/Users/Administrator/workspace/xgboost-win64_release_1.5.1/src/learner.cc:1115: Starting in XGBoost 1.3.0, the default evaluation metric used with the objective 'binary:logistic' was changed from 'error' to 'logloss'. Explicitly set eval_metric if you'd like to restore the old behavior.\n",
      "[21:46:12] WARNING: C:/Users/Administrator/workspace/xgboost-win64_release_1.5.1/src/learner.cc:1115: Starting in XGBoost 1.3.0, the default evaluation metric used with the objective 'binary:logistic' was changed from 'error' to 'logloss'. Explicitly set eval_metric if you'd like to restore the old behavior.\n",
      "[21:46:12] WARNING: C:/Users/Administrator/workspace/xgboost-win64_release_1.5.1/src/learner.cc:1115: Starting in XGBoost 1.3.0, the default evaluation metric used with the objective 'binary:logistic' was changed from 'error' to 'logloss'. Explicitly set eval_metric if you'd like to restore the old behavior.\n",
      "[21:46:12] WARNING: C:/Users/Administrator/workspace/xgboost-win64_release_1.5.1/src/learner.cc:1115: Starting in XGBoost 1.3.0, the default evaluation metric used with the objective 'binary:logistic' was changed from 'error' to 'logloss'. Explicitly set eval_metric if you'd like to restore the old behavior.\n",
      "[21:46:12] WARNING: C:/Users/Administrator/workspace/xgboost-win64_release_1.5.1/src/learner.cc:1115: Starting in XGBoost 1.3.0, the default evaluation metric used with the objective 'binary:logistic' was changed from 'error' to 'logloss'. Explicitly set eval_metric if you'd like to restore the old behavior.\n",
      "[21:46:13] WARNING: C:/Users/Administrator/workspace/xgboost-win64_release_1.5.1/src/learner.cc:1115: Starting in XGBoost 1.3.0, the default evaluation metric used with the objective 'binary:logistic' was changed from 'error' to 'logloss'. Explicitly set eval_metric if you'd like to restore the old behavior.\n",
      "[21:46:13] WARNING: C:/Users/Administrator/workspace/xgboost-win64_release_1.5.1/src/learner.cc:1115: Starting in XGBoost 1.3.0, the default evaluation metric used with the objective 'binary:logistic' was changed from 'error' to 'logloss'. Explicitly set eval_metric if you'd like to restore the old behavior.\n",
      "[21:46:13] WARNING: C:/Users/Administrator/workspace/xgboost-win64_release_1.5.1/src/learner.cc:1115: Starting in XGBoost 1.3.0, the default evaluation metric used with the objective 'binary:logistic' was changed from 'error' to 'logloss'. Explicitly set eval_metric if you'd like to restore the old behavior.\n",
      "[21:46:13] WARNING: C:/Users/Administrator/workspace/xgboost-win64_release_1.5.1/src/learner.cc:1115: Starting in XGBoost 1.3.0, the default evaluation metric used with the objective 'binary:logistic' was changed from 'error' to 'logloss'. Explicitly set eval_metric if you'd like to restore the old behavior.\n",
      "[21:46:14] WARNING: C:/Users/Administrator/workspace/xgboost-win64_release_1.5.1/src/learner.cc:1115: Starting in XGBoost 1.3.0, the default evaluation metric used with the objective 'binary:logistic' was changed from 'error' to 'logloss'. Explicitly set eval_metric if you'd like to restore the old behavior.\n",
      "[21:46:14] WARNING: C:/Users/Administrator/workspace/xgboost-win64_release_1.5.1/src/learner.cc:1115: Starting in XGBoost 1.3.0, the default evaluation metric used with the objective 'binary:logistic' was changed from 'error' to 'logloss'. Explicitly set eval_metric if you'd like to restore the old behavior.\n",
      "[21:46:14] WARNING: C:/Users/Administrator/workspace/xgboost-win64_release_1.5.1/src/learner.cc:1115: Starting in XGBoost 1.3.0, the default evaluation metric used with the objective 'binary:logistic' was changed from 'error' to 'logloss'. Explicitly set eval_metric if you'd like to restore the old behavior.\n",
      "[21:46:15] WARNING: C:/Users/Administrator/workspace/xgboost-win64_release_1.5.1/src/learner.cc:1115: Starting in XGBoost 1.3.0, the default evaluation metric used with the objective 'binary:logistic' was changed from 'error' to 'logloss'. Explicitly set eval_metric if you'd like to restore the old behavior.\n",
      "[21:46:15] WARNING: C:/Users/Administrator/workspace/xgboost-win64_release_1.5.1/src/learner.cc:1115: Starting in XGBoost 1.3.0, the default evaluation metric used with the objective 'binary:logistic' was changed from 'error' to 'logloss'. Explicitly set eval_metric if you'd like to restore the old behavior.\n",
      "[21:46:15] WARNING: C:/Users/Administrator/workspace/xgboost-win64_release_1.5.1/src/learner.cc:1115: Starting in XGBoost 1.3.0, the default evaluation metric used with the objective 'binary:logistic' was changed from 'error' to 'logloss'. Explicitly set eval_metric if you'd like to restore the old behavior.\n",
      "[21:46:16] WARNING: C:/Users/Administrator/workspace/xgboost-win64_release_1.5.1/src/learner.cc:1115: Starting in XGBoost 1.3.0, the default evaluation metric used with the objective 'binary:logistic' was changed from 'error' to 'logloss'. Explicitly set eval_metric if you'd like to restore the old behavior.\n",
      "[21:46:16] WARNING: C:/Users/Administrator/workspace/xgboost-win64_release_1.5.1/src/learner.cc:1115: Starting in XGBoost 1.3.0, the default evaluation metric used with the objective 'binary:logistic' was changed from 'error' to 'logloss'. Explicitly set eval_metric if you'd like to restore the old behavior.\n",
      "[21:46:16] WARNING: C:/Users/Administrator/workspace/xgboost-win64_release_1.5.1/src/learner.cc:1115: Starting in XGBoost 1.3.0, the default evaluation metric used with the objective 'binary:logistic' was changed from 'error' to 'logloss'. Explicitly set eval_metric if you'd like to restore the old behavior.\n",
      "[21:46:17] WARNING: C:/Users/Administrator/workspace/xgboost-win64_release_1.5.1/src/learner.cc:1115: Starting in XGBoost 1.3.0, the default evaluation metric used with the objective 'binary:logistic' was changed from 'error' to 'logloss'. Explicitly set eval_metric if you'd like to restore the old behavior.\n",
      "[21:46:17] WARNING: C:/Users/Administrator/workspace/xgboost-win64_release_1.5.1/src/learner.cc:1115: Starting in XGBoost 1.3.0, the default evaluation metric used with the objective 'binary:logistic' was changed from 'error' to 'logloss'. Explicitly set eval_metric if you'd like to restore the old behavior.\n",
      "[21:46:17] WARNING: C:/Users/Administrator/workspace/xgboost-win64_release_1.5.1/src/learner.cc:1115: Starting in XGBoost 1.3.0, the default evaluation metric used with the objective 'binary:logistic' was changed from 'error' to 'logloss'. Explicitly set eval_metric if you'd like to restore the old behavior.\n",
      "[21:46:17] WARNING: C:/Users/Administrator/workspace/xgboost-win64_release_1.5.1/src/learner.cc:1115: Starting in XGBoost 1.3.0, the default evaluation metric used with the objective 'binary:logistic' was changed from 'error' to 'logloss'. Explicitly set eval_metric if you'd like to restore the old behavior.\n",
      "[21:46:17] WARNING: C:/Users/Administrator/workspace/xgboost-win64_release_1.5.1/src/learner.cc:1115: Starting in XGBoost 1.3.0, the default evaluation metric used with the objective 'binary:logistic' was changed from 'error' to 'logloss'. Explicitly set eval_metric if you'd like to restore the old behavior.\n",
      "[21:46:17] WARNING: C:/Users/Administrator/workspace/xgboost-win64_release_1.5.1/src/learner.cc:1115: Starting in XGBoost 1.3.0, the default evaluation metric used with the objective 'binary:logistic' was changed from 'error' to 'logloss'. Explicitly set eval_metric if you'd like to restore the old behavior.\n",
      "Accuracy (Test Set): 0.83\n",
      "Precision (Test Set): 1.00\n",
      "Recall (Test Set): 0.19\n",
      "F1-Score (Test Set): 0.31\n",
      "AUC: 0.59\n"
     ]
    }
   ],
   "source": [
    "from sklearn.model_selection import RandomizedSearchCV\n",
    "import numpy as np\n",
    "\n",
    "#Menjadikan ke dalam bentuk dictionary\n",
    "hyperparameters = {\n",
    "                    'max_depth' : [int(x) for x in np.linspace(10, 110, num = 11)],\n",
    "                    'min_child_weight' : [int(x) for x in np.linspace(1, 20, num = 11)],\n",
    "                    'gamma' : [float(x) for x in np.linspace(0, 1, num = 11)],\n",
    "                    'tree_method' : ['auto', 'exact', 'approx', 'hist'],\n",
    "\n",
    "                    'colsample_bytree' : [float(x) for x in np.linspace(0, 1, num = 11)],\n",
    "                    'eta' : [float(x) for x in np.linspace(0, 1, num = 100)],\n",
    "\n",
    "                    'lambda' : [float(x) for x in np.linspace(0, 1, num = 11)],\n",
    "                    'alpha' : [float(x) for x in np.linspace(0, 1, num = 11)]\n",
    "                    }\n",
    "\n",
    "# Init\n",
    "xg = XGBClassifier(random_state=42)\n",
    "xg_tuned = RandomizedSearchCV(xg, hyperparameters, cv=5, random_state=42, scoring='precision')\n",
    "xg_tuned.fit(X_train,y_train)\n",
    "y_pred_test = xg_tuned.predict(X_test)\n",
    "\n",
    "# Predict & Evaluation\n",
    "eval_classification(xg_tuned, y_pred_test, X_train, y_train, X_test, y_test)"
   ]
  },
  {
   "cell_type": "code",
   "execution_count": 50,
   "id": "0f23970c-54c1-4a61-b5f2-cab2568b2234",
   "metadata": {
    "ExecuteTime": {
     "end_time": "2021-11-20T22:08:09.361333Z",
     "start_time": "2021-11-20T22:08:07.905721Z"
    },
    "scrolled": true
   },
   "outputs": [
    {
     "name": "stdout",
     "output_type": "stream",
     "text": [
      "[21:46:18] WARNING: C:/Users/Administrator/workspace/xgboost-win64_release_1.5.1/src/learner.cc:1115: Starting in XGBoost 1.3.0, the default evaluation metric used with the objective 'binary:logistic' was changed from 'error' to 'logloss'. Explicitly set eval_metric if you'd like to restore the old behavior.\n",
      "[21:46:18] WARNING: C:/Users/Administrator/workspace/xgboost-win64_release_1.5.1/src/learner.cc:1115: Starting in XGBoost 1.3.0, the default evaluation metric used with the objective 'binary:logistic' was changed from 'error' to 'logloss'. Explicitly set eval_metric if you'd like to restore the old behavior.\n",
      "[21:46:18] WARNING: C:/Users/Administrator/workspace/xgboost-win64_release_1.5.1/src/learner.cc:1115: Starting in XGBoost 1.3.0, the default evaluation metric used with the objective 'binary:logistic' was changed from 'error' to 'logloss'. Explicitly set eval_metric if you'd like to restore the old behavior.\n",
      "[21:46:18] WARNING: C:/Users/Administrator/workspace/xgboost-win64_release_1.5.1/src/learner.cc:1115: Starting in XGBoost 1.3.0, the default evaluation metric used with the objective 'binary:logistic' was changed from 'error' to 'logloss'. Explicitly set eval_metric if you'd like to restore the old behavior.\n",
      "[21:46:18] WARNING: C:/Users/Administrator/workspace/xgboost-win64_release_1.5.1/src/learner.cc:1115: Starting in XGBoost 1.3.0, the default evaluation metric used with the objective 'binary:logistic' was changed from 'error' to 'logloss'. Explicitly set eval_metric if you'd like to restore the old behavior.\n",
      "[21:46:18] WARNING: C:/Users/Administrator/workspace/xgboost-win64_release_1.5.1/src/learner.cc:1115: Starting in XGBoost 1.3.0, the default evaluation metric used with the objective 'binary:logistic' was changed from 'error' to 'logloss'. Explicitly set eval_metric if you'd like to restore the old behavior.\n",
      "[21:46:19] WARNING: C:/Users/Administrator/workspace/xgboost-win64_release_1.5.1/src/learner.cc:1115: Starting in XGBoost 1.3.0, the default evaluation metric used with the objective 'binary:logistic' was changed from 'error' to 'logloss'. Explicitly set eval_metric if you'd like to restore the old behavior.\n",
      "[21:46:19] WARNING: C:/Users/Administrator/workspace/xgboost-win64_release_1.5.1/src/learner.cc:1115: Starting in XGBoost 1.3.0, the default evaluation metric used with the objective 'binary:logistic' was changed from 'error' to 'logloss'. Explicitly set eval_metric if you'd like to restore the old behavior.\n",
      "[21:46:19] WARNING: C:/Users/Administrator/workspace/xgboost-win64_release_1.5.1/src/learner.cc:1115: Starting in XGBoost 1.3.0, the default evaluation metric used with the objective 'binary:logistic' was changed from 'error' to 'logloss'. Explicitly set eval_metric if you'd like to restore the old behavior.\n",
      "[21:46:19] WARNING: C:/Users/Administrator/workspace/xgboost-win64_release_1.5.1/src/learner.cc:1115: Starting in XGBoost 1.3.0, the default evaluation metric used with the objective 'binary:logistic' was changed from 'error' to 'logloss'. Explicitly set eval_metric if you'd like to restore the old behavior.\n",
      "[21:46:19] WARNING: C:/Users/Administrator/workspace/xgboost-win64_release_1.5.1/src/learner.cc:1115: Starting in XGBoost 1.3.0, the default evaluation metric used with the objective 'binary:logistic' was changed from 'error' to 'logloss'. Explicitly set eval_metric if you'd like to restore the old behavior.\n",
      "[21:46:19] WARNING: C:/Users/Administrator/workspace/xgboost-win64_release_1.5.1/src/learner.cc:1115: Starting in XGBoost 1.3.0, the default evaluation metric used with the objective 'binary:logistic' was changed from 'error' to 'logloss'. Explicitly set eval_metric if you'd like to restore the old behavior.\n",
      "[21:46:19] WARNING: C:/Users/Administrator/workspace/xgboost-win64_release_1.5.1/src/learner.cc:1115: Starting in XGBoost 1.3.0, the default evaluation metric used with the objective 'binary:logistic' was changed from 'error' to 'logloss'. Explicitly set eval_metric if you'd like to restore the old behavior.\n",
      "[21:46:19] WARNING: C:/Users/Administrator/workspace/xgboost-win64_release_1.5.1/src/learner.cc:1115: Starting in XGBoost 1.3.0, the default evaluation metric used with the objective 'binary:logistic' was changed from 'error' to 'logloss'. Explicitly set eval_metric if you'd like to restore the old behavior.\n",
      "[21:46:20] WARNING: C:/Users/Administrator/workspace/xgboost-win64_release_1.5.1/src/learner.cc:1115: Starting in XGBoost 1.3.0, the default evaluation metric used with the objective 'binary:logistic' was changed from 'error' to 'logloss'. Explicitly set eval_metric if you'd like to restore the old behavior.\n",
      "[21:46:20] WARNING: C:/Users/Administrator/workspace/xgboost-win64_release_1.5.1/src/learner.cc:1115: Starting in XGBoost 1.3.0, the default evaluation metric used with the objective 'binary:logistic' was changed from 'error' to 'logloss'. Explicitly set eval_metric if you'd like to restore the old behavior.\n",
      "[21:46:20] WARNING: C:/Users/Administrator/workspace/xgboost-win64_release_1.5.1/src/learner.cc:1115: Starting in XGBoost 1.3.0, the default evaluation metric used with the objective 'binary:logistic' was changed from 'error' to 'logloss'. Explicitly set eval_metric if you'd like to restore the old behavior.\n",
      "[21:46:20] WARNING: C:/Users/Administrator/workspace/xgboost-win64_release_1.5.1/src/learner.cc:1115: Starting in XGBoost 1.3.0, the default evaluation metric used with the objective 'binary:logistic' was changed from 'error' to 'logloss'. Explicitly set eval_metric if you'd like to restore the old behavior.\n",
      "[21:46:21] WARNING: C:/Users/Administrator/workspace/xgboost-win64_release_1.5.1/src/learner.cc:1115: Starting in XGBoost 1.3.0, the default evaluation metric used with the objective 'binary:logistic' was changed from 'error' to 'logloss'. Explicitly set eval_metric if you'd like to restore the old behavior.\n",
      "[21:46:21] WARNING: C:/Users/Administrator/workspace/xgboost-win64_release_1.5.1/src/learner.cc:1115: Starting in XGBoost 1.3.0, the default evaluation metric used with the objective 'binary:logistic' was changed from 'error' to 'logloss'. Explicitly set eval_metric if you'd like to restore the old behavior.\n",
      "[21:46:21] WARNING: C:/Users/Administrator/workspace/xgboost-win64_release_1.5.1/src/learner.cc:1115: Starting in XGBoost 1.3.0, the default evaluation metric used with the objective 'binary:logistic' was changed from 'error' to 'logloss'. Explicitly set eval_metric if you'd like to restore the old behavior.\n",
      "[21:46:21] WARNING: C:/Users/Administrator/workspace/xgboost-win64_release_1.5.1/src/learner.cc:1115: Starting in XGBoost 1.3.0, the default evaluation metric used with the objective 'binary:logistic' was changed from 'error' to 'logloss'. Explicitly set eval_metric if you'd like to restore the old behavior.\n",
      "[21:46:22] WARNING: C:/Users/Administrator/workspace/xgboost-win64_release_1.5.1/src/learner.cc:1115: Starting in XGBoost 1.3.0, the default evaluation metric used with the objective 'binary:logistic' was changed from 'error' to 'logloss'. Explicitly set eval_metric if you'd like to restore the old behavior.\n",
      "[21:46:22] WARNING: C:/Users/Administrator/workspace/xgboost-win64_release_1.5.1/src/learner.cc:1115: Starting in XGBoost 1.3.0, the default evaluation metric used with the objective 'binary:logistic' was changed from 'error' to 'logloss'. Explicitly set eval_metric if you'd like to restore the old behavior.\n",
      "[21:46:22] WARNING: C:/Users/Administrator/workspace/xgboost-win64_release_1.5.1/src/learner.cc:1115: Starting in XGBoost 1.3.0, the default evaluation metric used with the objective 'binary:logistic' was changed from 'error' to 'logloss'. Explicitly set eval_metric if you'd like to restore the old behavior.\n",
      "[21:46:22] WARNING: C:/Users/Administrator/workspace/xgboost-win64_release_1.5.1/src/learner.cc:1115: Starting in XGBoost 1.3.0, the default evaluation metric used with the objective 'binary:logistic' was changed from 'error' to 'logloss'. Explicitly set eval_metric if you'd like to restore the old behavior.\n",
      "[21:46:23] WARNING: C:/Users/Administrator/workspace/xgboost-win64_release_1.5.1/src/learner.cc:1115: Starting in XGBoost 1.3.0, the default evaluation metric used with the objective 'binary:logistic' was changed from 'error' to 'logloss'. Explicitly set eval_metric if you'd like to restore the old behavior.\n",
      "[21:46:23] WARNING: C:/Users/Administrator/workspace/xgboost-win64_release_1.5.1/src/learner.cc:1115: Starting in XGBoost 1.3.0, the default evaluation metric used with the objective 'binary:logistic' was changed from 'error' to 'logloss'. Explicitly set eval_metric if you'd like to restore the old behavior.\n",
      "[21:46:23] WARNING: C:/Users/Administrator/workspace/xgboost-win64_release_1.5.1/src/learner.cc:1115: Starting in XGBoost 1.3.0, the default evaluation metric used with the objective 'binary:logistic' was changed from 'error' to 'logloss'. Explicitly set eval_metric if you'd like to restore the old behavior.\n",
      "[21:46:23] WARNING: C:/Users/Administrator/workspace/xgboost-win64_release_1.5.1/src/learner.cc:1115: Starting in XGBoost 1.3.0, the default evaluation metric used with the objective 'binary:logistic' was changed from 'error' to 'logloss'. Explicitly set eval_metric if you'd like to restore the old behavior.\n",
      "[21:46:23] WARNING: C:/Users/Administrator/workspace/xgboost-win64_release_1.5.1/src/learner.cc:1115: Starting in XGBoost 1.3.0, the default evaluation metric used with the objective 'binary:logistic' was changed from 'error' to 'logloss'. Explicitly set eval_metric if you'd like to restore the old behavior.\n",
      "[21:46:24] WARNING: C:/Users/Administrator/workspace/xgboost-win64_release_1.5.1/src/learner.cc:1115: Starting in XGBoost 1.3.0, the default evaluation metric used with the objective 'binary:logistic' was changed from 'error' to 'logloss'. Explicitly set eval_metric if you'd like to restore the old behavior.\n",
      "[21:46:24] WARNING: C:/Users/Administrator/workspace/xgboost-win64_release_1.5.1/src/learner.cc:1115: Starting in XGBoost 1.3.0, the default evaluation metric used with the objective 'binary:logistic' was changed from 'error' to 'logloss'. Explicitly set eval_metric if you'd like to restore the old behavior.\n",
      "[21:46:24] WARNING: C:/Users/Administrator/workspace/xgboost-win64_release_1.5.1/src/learner.cc:1115: Starting in XGBoost 1.3.0, the default evaluation metric used with the objective 'binary:logistic' was changed from 'error' to 'logloss'. Explicitly set eval_metric if you'd like to restore the old behavior.\n",
      "[21:46:24] WARNING: C:/Users/Administrator/workspace/xgboost-win64_release_1.5.1/src/learner.cc:1115: Starting in XGBoost 1.3.0, the default evaluation metric used with the objective 'binary:logistic' was changed from 'error' to 'logloss'. Explicitly set eval_metric if you'd like to restore the old behavior.\n",
      "[21:46:24] WARNING: C:/Users/Administrator/workspace/xgboost-win64_release_1.5.1/src/learner.cc:1115: Starting in XGBoost 1.3.0, the default evaluation metric used with the objective 'binary:logistic' was changed from 'error' to 'logloss'. Explicitly set eval_metric if you'd like to restore the old behavior.\n",
      "[21:46:25] WARNING: C:/Users/Administrator/workspace/xgboost-win64_release_1.5.1/src/learner.cc:1115: Starting in XGBoost 1.3.0, the default evaluation metric used with the objective 'binary:logistic' was changed from 'error' to 'logloss'. Explicitly set eval_metric if you'd like to restore the old behavior.\n",
      "[21:46:25] WARNING: C:/Users/Administrator/workspace/xgboost-win64_release_1.5.1/src/learner.cc:1115: Starting in XGBoost 1.3.0, the default evaluation metric used with the objective 'binary:logistic' was changed from 'error' to 'logloss'. Explicitly set eval_metric if you'd like to restore the old behavior.\n",
      "[21:46:25] WARNING: C:/Users/Administrator/workspace/xgboost-win64_release_1.5.1/src/learner.cc:1115: Starting in XGBoost 1.3.0, the default evaluation metric used with the objective 'binary:logistic' was changed from 'error' to 'logloss'. Explicitly set eval_metric if you'd like to restore the old behavior.\n",
      "[21:46:25] WARNING: C:/Users/Administrator/workspace/xgboost-win64_release_1.5.1/src/learner.cc:1115: Starting in XGBoost 1.3.0, the default evaluation metric used with the objective 'binary:logistic' was changed from 'error' to 'logloss'. Explicitly set eval_metric if you'd like to restore the old behavior.\n",
      "[21:46:26] WARNING: C:/Users/Administrator/workspace/xgboost-win64_release_1.5.1/src/learner.cc:1115: Starting in XGBoost 1.3.0, the default evaluation metric used with the objective 'binary:logistic' was changed from 'error' to 'logloss'. Explicitly set eval_metric if you'd like to restore the old behavior.\n",
      "[21:46:26] WARNING: C:/Users/Administrator/workspace/xgboost-win64_release_1.5.1/src/learner.cc:1115: Starting in XGBoost 1.3.0, the default evaluation metric used with the objective 'binary:logistic' was changed from 'error' to 'logloss'. Explicitly set eval_metric if you'd like to restore the old behavior.\n",
      "[21:46:26] WARNING: C:/Users/Administrator/workspace/xgboost-win64_release_1.5.1/src/learner.cc:1115: Starting in XGBoost 1.3.0, the default evaluation metric used with the objective 'binary:logistic' was changed from 'error' to 'logloss'. Explicitly set eval_metric if you'd like to restore the old behavior.\n",
      "[21:46:27] WARNING: C:/Users/Administrator/workspace/xgboost-win64_release_1.5.1/src/learner.cc:1115: Starting in XGBoost 1.3.0, the default evaluation metric used with the objective 'binary:logistic' was changed from 'error' to 'logloss'. Explicitly set eval_metric if you'd like to restore the old behavior.\n",
      "[21:46:27] WARNING: C:/Users/Administrator/workspace/xgboost-win64_release_1.5.1/src/learner.cc:1115: Starting in XGBoost 1.3.0, the default evaluation metric used with the objective 'binary:logistic' was changed from 'error' to 'logloss'. Explicitly set eval_metric if you'd like to restore the old behavior.\n",
      "[21:46:27] WARNING: C:/Users/Administrator/workspace/xgboost-win64_release_1.5.1/src/learner.cc:1115: Starting in XGBoost 1.3.0, the default evaluation metric used with the objective 'binary:logistic' was changed from 'error' to 'logloss'. Explicitly set eval_metric if you'd like to restore the old behavior.\n",
      "[21:46:27] WARNING: C:/Users/Administrator/workspace/xgboost-win64_release_1.5.1/src/learner.cc:1115: Starting in XGBoost 1.3.0, the default evaluation metric used with the objective 'binary:logistic' was changed from 'error' to 'logloss'. Explicitly set eval_metric if you'd like to restore the old behavior.\n",
      "[21:46:27] WARNING: C:/Users/Administrator/workspace/xgboost-win64_release_1.5.1/src/learner.cc:1115: Starting in XGBoost 1.3.0, the default evaluation metric used with the objective 'binary:logistic' was changed from 'error' to 'logloss'. Explicitly set eval_metric if you'd like to restore the old behavior.\n",
      "[21:46:27] WARNING: C:/Users/Administrator/workspace/xgboost-win64_release_1.5.1/src/learner.cc:1115: Starting in XGBoost 1.3.0, the default evaluation metric used with the objective 'binary:logistic' was changed from 'error' to 'logloss'. Explicitly set eval_metric if you'd like to restore the old behavior.\n",
      "[21:46:28] WARNING: C:/Users/Administrator/workspace/xgboost-win64_release_1.5.1/src/learner.cc:1115: Starting in XGBoost 1.3.0, the default evaluation metric used with the objective 'binary:logistic' was changed from 'error' to 'logloss'. Explicitly set eval_metric if you'd like to restore the old behavior.\n",
      "[21:46:28] WARNING: C:/Users/Administrator/workspace/xgboost-win64_release_1.5.1/src/learner.cc:1115: Starting in XGBoost 1.3.0, the default evaluation metric used with the objective 'binary:logistic' was changed from 'error' to 'logloss'. Explicitly set eval_metric if you'd like to restore the old behavior.\n",
      "Precision (Train Set): 0.9423868312757202\n",
      "Precision (Test Set):1.0\n"
     ]
    }
   ],
   "source": [
    "from sklearn.metrics import precision_score\n",
    "xg_tuned.fit(X_train, y_train)\n",
    "y_pred_train = xg_tuned.predict(X_train)\n",
    "y_pred = xg_tuned.predict(X_test)\n",
    "print(\"Precision (Train Set): \" +str(precision_score(y_train, y_pred_train)))\n",
    "print(\"Precision (Test Set):\" +str(precision_score(y_test, y_pred_test)))"
   ]
  },
  {
   "cell_type": "markdown",
   "id": "340698ac-2db7-45ac-99c1-463c9109ff90",
   "metadata": {},
   "source": [
    "---"
   ]
  },
  {
   "cell_type": "markdown",
   "id": "d00794a4-1eff-4804-8645-eb284990ff68",
   "metadata": {},
   "source": [
    "## KNN"
   ]
  },
  {
   "cell_type": "code",
   "execution_count": 51,
   "id": "d7adf723-f779-45de-bded-cef10f34def1",
   "metadata": {},
   "outputs": [
    {
     "name": "stdout",
     "output_type": "stream",
     "text": [
      "The time of execution of above program is : 0.0030434131622314453\n"
     ]
    }
   ],
   "source": [
    "X = df.drop(columns=['CustomerID','ProdTaken'])\n",
    "y = df['ProdTaken']\n",
    "\n",
    "from sklearn.model_selection import train_test_split \n",
    "X_train, X_test, y_train, y_test = train_test_split(X, y, test_size = 0.2, random_state = 42)\n",
    "\n",
    "from sklearn.neighbors import KNeighborsClassifier# import knn dari sklearn\n",
    "start = time.time()\n",
    "knn = KNeighborsClassifier() # inisiasi object dengan nama knn\n",
    "knn.fit(X_train, y_train)\n",
    "end = time.time()\n",
    "print(\"The time of execution of above program is :\", end-start)\n",
    "\n",
    "y_pred_test = knn.predict(X_test)"
   ]
  },
  {
   "cell_type": "markdown",
   "id": "7de69457-1255-4e39-82e0-8b5551c7f768",
   "metadata": {},
   "source": [
    "### Evaluation"
   ]
  },
  {
   "cell_type": "code",
   "execution_count": 52,
   "id": "ea96562e-1bfc-4d78-a140-9b3bd4382b98",
   "metadata": {},
   "outputs": [
    {
     "name": "stdout",
     "output_type": "stream",
     "text": [
      "Accuracy (Test Set): 0.87\n",
      "Precision (Test Set): 0.88\n",
      "Recall (Test Set): 0.41\n",
      "F1-Score (Test Set): 0.56\n",
      "AUC: 0.70\n"
     ]
    }
   ],
   "source": [
    "eval_classification(model, y_pred_test, X_train, y_train, X_test, y_test)"
   ]
  },
  {
   "cell_type": "code",
   "execution_count": 53,
   "id": "c6bf85e7-80d6-4d1e-a067-82d7bfc27bc2",
   "metadata": {},
   "outputs": [
    {
     "data": {
      "text/plain": [
       "array([[748,  11],\n",
       "       [118,  81]], dtype=int64)"
      ]
     },
     "execution_count": 53,
     "metadata": {},
     "output_type": "execute_result"
    }
   ],
   "source": [
    "from sklearn.metrics import confusion_matrix\n",
    "\n",
    "cf = confusion_matrix(y_test, y_pred_test)\n",
    "cf"
   ]
  },
  {
   "cell_type": "code",
   "execution_count": 54,
   "id": "42483dfa-2f19-4896-acd9-4e3352f29a72",
   "metadata": {},
   "outputs": [
    {
     "name": "stdout",
     "output_type": "stream",
     "text": [
      "Precision (Train Set): 0.9127789046653144\n",
      "Precision (Test Set):0.8804347826086957\n"
     ]
    }
   ],
   "source": [
    "from sklearn.metrics import precision_score\n",
    "y_pred_train = knn.predict(X_train)\n",
    "y_pred = knn.predict(X_test)\n",
    "print(\"Precision (Train Set): \" +str(precision_score(y_train, y_pred_train)))\n",
    "print(\"Precision (Test Set):\" +str(precision_score(y_test, y_pred_test)))"
   ]
  },
  {
   "cell_type": "markdown",
   "id": "c53e3132-574c-4a18-948a-cba4cbd1dfc1",
   "metadata": {},
   "source": [
    "Overfit/Bestfit?"
   ]
  },
  {
   "cell_type": "markdown",
   "id": "838c340d-05ba-4c7a-90ee-db75c63a743d",
   "metadata": {},
   "source": [
    "### Regularization"
   ]
  },
  {
   "cell_type": "code",
   "execution_count": 55,
   "id": "42c1e624-15a4-47fc-bdb1-87a8e0b6bb3e",
   "metadata": {},
   "outputs": [
    {
     "name": "stdout",
     "output_type": "stream",
     "text": [
      "The time of execution of above program is : 4.0592639446258545\n",
      "Accuracy (Test Set): 0.82\n",
      "Precision (Test Set): 0.83\n",
      "Recall (Test Set): 0.15\n",
      "F1-Score (Test Set): 0.25\n",
      "AUC: 0.57\n"
     ]
    }
   ],
   "source": [
    "from sklearn.model_selection import RandomizedSearchCV\n",
    "from scipy.stats import uniform\n",
    "\n",
    "# List of hyperparameter\n",
    "n_neighbors = list(range(1,30))\n",
    "p=[1,2]\n",
    "algorithm = ['auto', 'ball_tree', 'kd_tree', 'brute']\n",
    "hyperparameters = dict(n_neighbors=n_neighbors, p=p, algorithm=algorithm)\n",
    "\n",
    "# Init model\n",
    "start = time.time()\n",
    "knn_tuned = KNeighborsClassifier()\n",
    "model = RandomizedSearchCV(knn_tuned, hyperparameters, cv=5, random_state=42, scoring='precision')\n",
    "\n",
    "# Fit Model & Evaluasi\n",
    "model.fit(X_train, y_train)\n",
    "end = time.time()\n",
    "print(\"The time of execution of above program is :\", end-start)\n",
    "\n",
    "y_pred_test = model.predict(X_test)\n",
    "eval_classification(model, y_pred_test, X_train, y_train, X_test, y_test)"
   ]
  },
  {
   "cell_type": "code",
   "execution_count": 56,
   "id": "f7118cae-9b46-4197-b0fb-24bba3106ac9",
   "metadata": {},
   "outputs": [
    {
     "data": {
      "text/plain": [
       "array([[753,   6],\n",
       "       [170,  29]], dtype=int64)"
      ]
     },
     "execution_count": 56,
     "metadata": {},
     "output_type": "execute_result"
    }
   ],
   "source": [
    "from sklearn.metrics import confusion_matrix\n",
    "\n",
    "cf = confusion_matrix(y_test, y_pred_test)\n",
    "cf"
   ]
  },
  {
   "cell_type": "code",
   "execution_count": 57,
   "id": "6166c22f-26bf-4b27-9b65-ed785cacdd2d",
   "metadata": {},
   "outputs": [
    {
     "name": "stdout",
     "output_type": "stream",
     "text": [
      "Precision (Train Set): 0.8742857142857143\n",
      "Precision (Test Set):0.8285714285714286\n"
     ]
    }
   ],
   "source": [
    "from sklearn.metrics import precision_score\n",
    "y_pred_train = model.predict(X_train)\n",
    "y_pred = model.predict(X_test)\n",
    "print(\"Precision (Train Set): \" +str(precision_score(y_train, y_pred_train)))\n",
    "print(\"Precision (Test Set):\" +str(precision_score(y_test, y_pred_test)))"
   ]
  },
  {
   "cell_type": "code",
   "execution_count": 58,
   "id": "81060e95-96f4-4a75-a22b-0590d88f8f02",
   "metadata": {},
   "outputs": [
    {
     "name": "stdout",
     "output_type": "stream",
     "text": [
      "Best n_neighbors: 12\n",
      "Best p: 2\n",
      "Best algorithm: brute\n"
     ]
    }
   ],
   "source": [
    "print('Best n_neighbors:', model.best_estimator_.get_params()['n_neighbors'])\n",
    "print('Best p:', model.best_estimator_.get_params()['p'])\n",
    "print('Best algorithm:', model.best_estimator_.get_params()['algorithm'])"
   ]
  },
  {
   "cell_type": "markdown",
   "id": "fc5655a0-1f99-46ba-8208-9779b960c629",
   "metadata": {},
   "source": [
    "## Conclusion"
   ]
  },
  {
   "cell_type": "markdown",
   "id": "78fdf0f3-a630-489a-8614-ba30e80d7ec1",
   "metadata": {},
   "source": [
    "1. **Logistic Regression**\n",
    "    - Precision (Train Set): 0.70\n",
    "    - Precision (Test Set): 0.81\n",
    "    - Accuracy (Test Set): 0.84\n",
    "    - Recall (Test Set): 0.31\n",
    "    - Result: Bestfit, presisi cukup tinggi, recall rendah\n",
    "\n",
    "    Hyperparameter Tuning (tanpa regularization) dan GridsearchCV\n",
    "    - Precision (Train Set): 0.70\n",
    "    - Precision (Test Set): 0.82\n",
    "    - Accuracy (Test Set): 0.84\n",
    "    - Recall (Test Set): 0.30\n",
    "    - Result: Bestfit, presisi cukup tinggi, recall rendah\n",
    "\n",
    "2. **Decision Tree**\n",
    "    - Precision (Train Set): 1.0\n",
    "    - Precision (Test Set): 0.78\n",
    "    - Accuracy (Test Set): 0.90\n",
    "    - Recall (Test Set): 0.71\n",
    "    - Result: Overfit, presisi dan recall moderate \n",
    "\n",
    "    Hyperparameter Tuning - Regularization\n",
    "    - Precision (Train Set): 0.71\n",
    "    - Precision (Test Set): 0.74\n",
    "    - Accuracy (Test Set): 0.83\n",
    "    - Recall (Test Set): 0.27\n",
    "    - Result: Bestfit, presisi moderate, recall rendah\n",
    "\n",
    "\n",
    "3. **Bagging - Random Forest**\n",
    "    - Precision (Train Set): 1.0\n",
    "    - Precision (Test Set): 0.99\n",
    "    - Accuracy (Test Set): 0.90\n",
    "    - Recall (Test Set): 0.53\n",
    "    - Result: Bestfit, presisi tinggi, recall rendah\n",
    "    \n",
    "    \n",
    "4. **KNN**\n",
    "    - Precision (Train Set): 0.91\n",
    "    - Precision (Test Set): 0.88\n",
    "    - Accuracy (Test Set): 0.87\n",
    "    - Recall (Test Set): 0.41\n",
    "    - Result: Bestfit, akurasi cukup tinggi, recall rendah\n",
    "\n",
    "\n",
    "    Hyperparameter Tuning - Randomized Search\n",
    "    - Precision (Train Set): 0.88\n",
    "    - Precision (Test Set): 0.83\n",
    "    - Accuracy (Test Set): 0.82\n",
    "    - Recall (Test Set): 0.15\n",
    "    - Result: Bestfit, akurasi cukup tinggi, recall rendah\n",
    "    \n",
    "5. **XGBoost**\n",
    "    - Precision (Train Set): 1.0\n",
    "    - Precision (Test Set): 0.95\n",
    "    - Accuracy (Test Set): 0.93\n",
    "    - Recall (Test Set): 0.70\n",
    "    - Result: Bestfit, presisi tinggi, recall cukup tinggi"
   ]
  },
  {
   "cell_type": "markdown",
   "id": "c4029814-e6e2-49a7-8bce-540a03ea6b44",
   "metadata": {},
   "source": [
    "### Model terbaik\n",
    "\n",
    "**XGBoost**\n",
    "    \n",
    "    - Precision (Train Set): 1.0\n",
    "    - Precision (Test Set): 0.95\n",
    "    - Accuracy (Test Set): 0.93\n",
    "    - Recall (Test Set): 0.70\n",
    "    - Result: Bestfit, presisi tinggi, recall cukup tinggi\n",
    "\n",
    "    - True Positive: 140\n",
    "    - True Negative: 752\n",
    "    - False Positive: 7\n",
    "    - False Negative: 59"
   ]
  }
 ],
 "metadata": {
  "kernelspec": {
   "display_name": "Python 3",
   "language": "python",
   "name": "python3"
  },
  "language_info": {
   "codemirror_mode": {
    "name": "ipython",
    "version": 3
   },
   "file_extension": ".py",
   "mimetype": "text/x-python",
   "name": "python",
   "nbconvert_exporter": "python",
   "pygments_lexer": "ipython3",
   "version": "3.8.8"
  }
 },
 "nbformat": 4,
 "nbformat_minor": 5
}
